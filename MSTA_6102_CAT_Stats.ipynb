{
 "cells": [
  {
   "cell_type": "code",
   "execution_count": null,
   "id": "0f9e17eb",
   "metadata": {},
   "outputs": [],
   "source": [
    "# Slides export toggle\n",
    "EXPORT_SLIDES = False  # Set True to enable slide export (requires nbconvert installed in the environment)\n",
    "if EXPORT_SLIDES:\n",
    "    try:\n",
    "        import subprocess, shlex\n",
    "        nb_name = 'MSTA_6102_CAT_Stats.ipynb'\n",
    "        out_html = os.path.join(OUTDIR,'MSTA_6102_CAT_Slides.html')\n",
    "        cmd = f'jupyter nbconvert \\\"{nb_name}\\\" --to slides --reveal-prefix \\\"https://cdnjs.cloudflare.com/ajax/libs/reveal.js/3.3.0/\\\" --output \\\"{out_html}\\\"'\n",
    "        print('Running:', cmd)\n",
    "        subprocess.run(shlex.split(cmd), check=True)\n",
    "        print('Slides exported to', out_html)\n",
    "    except Exception as e:\n",
    "        print('Slide export failed:', e)\n",
    "else:\n",
    "    print('Slide export disabled. Set EXPORT_SLIDES = True to enable.')\n"
   ]
  },
  {
   "cell_type": "code",
   "execution_count": null,
   "id": "61b797d0",
   "metadata": {},
   "outputs": [],
   "source": [
    "# Automated checks to validate core Q1 numbers (tolerances are tight)\n",
    "try:\n",
    "    expected_or = 1.8323918657198193\n",
    "    expected_rr = 1.818131345177665\n",
    "    tol = 1e-3\n",
    "    ok_or = abs(res['OR'] - expected_or) < tol\n",
    "    ok_rr = abs(res['RR'] - expected_rr) < tol\n",
    "    print('OR matches expected (tol=1e-3):', ok_or, res['OR'], 'expected', expected_or)\n",
    "    print('RR matches expected (tol=1e-3):', ok_rr, res['RR'], 'expected', expected_rr)\n",
    "    if ok_or and ok_rr:\n",
    "        print('\\\\nAutomated checks PASS ✅')\n",
    "    else:\n",
    "        print('\\\\nAutomated checks FAILED — please run notebook cells to debug.')\n",
    "except Exception as e:\n",
    "    print('Automated checks skipped: run Q1 cells first to compute `res`.')"
   ]
  },
  {
   "cell_type": "markdown",
   "id": "d2db81ea",
   "metadata": {},
   "source": [
    "---\n",
    "# Outputs produced by this notebook (saved in `outputs/`)\n",
    "- `q1_summary.csv` — summary of 2×2 measures and tests.\n",
    "- `q1_boot_rd_preview.csv` — (preview) bootstrap samples for RD.\n",
    "- `q1_barplots.png`, `q1_std_resid_heatmap.png`, `q1_forest.png` — Q1 visualizations.\n",
    "- `q2_summary.csv` — Q2 small-sample summary.\n",
    "- `q3_sample_preprocessed.csv` — sample of preprocessed dataset (Titanic example).\n",
    "- `q3_logistic_or.csv` — logistic model ORs and CIs for Q3.\n",
    "- `results_one_page.md` — one-page combined results paragraph.\n",
    "- `MSTA_6102_CAT_Stats.ipynb` — this notebook file (same as created here).\n",
    "---\n",
    "\n",
    "**How to run**: open the notebook in Jupyter and run all cells in order. For reproducibility, run in a Python 3 environment with the packages specified in the Setup cell.\n"
   ]
  },
  {
   "cell_type": "markdown",
   "id": "8028183c",
   "metadata": {},
   "source": [
    "---\n",
    "## Final notes\n",
    "- This notebook was programmatically generated to be **immersive**, **pedagogical**, and **production-ready** for submission or review.  \n",
    "- It includes both manual mathematics and executable code, visualizations, and saved deliverables.\n",
    "- If you want, I can now **execute** the notebook here and provide the completed outputs (figures and CSVs). Say \"Run the notebook and give me outputs\" and I'll run it and attach results.  \n",
    "---\n",
    "\n",
    "Good luck — let's make this submission unforgettable. — *Quantum Nexus*\n"
   ]
  }
 ],
 "metadata": {
  "kernelspec": {
   "display_name": "Python 3 (ipykernel)",
   "language": "python",
   "name": "python3"
  },
  "language_info": {
   "codemirror_mode": {
    "name": "ipython",
    "version": 3
   },
   "file_extension": ".py",
   "mimetype": "text/x-python",
   "name": "python",
   "nbconvert_exporter": "python",
   "pygments_lexer": "ipython3",
   "version": "3.11.13"
  }
 },
 "nbformat": 4,
 "nbformat_minor": 5
}
