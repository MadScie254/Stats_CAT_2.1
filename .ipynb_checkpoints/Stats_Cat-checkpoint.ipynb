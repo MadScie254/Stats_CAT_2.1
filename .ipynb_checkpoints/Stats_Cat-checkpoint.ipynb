{
 "cells": [
  {
   "cell_type": "markdown",
   "id": "a4f0707b-ae83-4658-afa1-5331c75778db",
   "metadata": {},
   "source": [
    "## Question 1: Accident Data Analysis\n",
    "\n",
    "This question utilizes a 2x2 contingency table to evaluate the relationship between the use of safety equipment and injury severity. The data are cross-sectional (from records), so we're dealing with prevalence rather than incidence; however, measures like relative risk (RR) and odds ratio (OR) are still applicable for assessing association.\n",
    "\n",
    "#### Step 1: Understanding the Data and Table Setup\n",
    "- **Rows (Exposure)**: Safety equipment – \"None\" (no seat belt) vs. \"Seat belt\".\n",
    "- **Columns (Outcome)**: Injury – \"Fatal\" (bad outcome) vs. \"Non-fatal\" (reference).\n",
    "- Table:\n",
    "\n",
    "| Safety Equipment | Fatal | Non-fatal | Total |\n",
    "|------------------|-------|-----------|-------|\n",
    "| None             | 189   | 10843     | 11032 |\n",
    "| Seat belt        | 104   | 10933     | 11037 |\n",
    "| **Total**        | **293** | **21776**   | **22069** |\n",
    "\n",
    "- Key observation: Fatal injuries are rare (293/22069 ≈ 1.33% prevalence). This rarity is important for why OR ≈ RR (explained below).\n",
    "- Assumptions: Data is independent, randomly sampled (though it's compiled records, so potential biases like underreporting, but we assume it's representative for this exercise). No confounders mentioned, so unadjusted measures.\n",
    "\n",
    "#### (a) Compute and Interpret Odds Ratio, Relative Risk, and Difference in Proportions (8 marks)\n",
    "- **Concepts**:\n",
    "  - **Odds Ratio (OR)**: Ratio of odds of fatal injury in exposed (no seat belt) vs. unexposed (seat belt). Odds = P(event) / (1 - P(event)). Formula: OR = (a/d) / (b/c) = (a * d) / (b * c), where a=189 (fatal none), b=104 (fatal seat), c=10843 (non-fatal none), d=10933 (non-fatal seat). Interprets multiplicative increase in odds.\n",
    "  - **Relative Risk (RR)**: Ratio of probabilities (risks) of fatal injury in exposed vs. unexposed. RR = [a / (a+c)] / [b / (b+d)]. Interprets multiplicative increase in risk.\n",
    "  - **Risk Difference (RD, or Difference in Proportions)**: Absolute difference in risks. RD = p1 - p2. Interprets additive difference.\n",
    "  - **Why OR ≈ RR?** In rare events (low prevalence), the denominator (1 - p) ≈ 1 for both groups, so odds ≈ risk, making OR ≈ RR. Mathematically: RR = OR * [(1 - p_unexposed) / (1 - p_exposed)], and when p << 1, this ≈ OR. Here, p_fatal ≈ 0.013, so approximation holds (we'll see values are close: 1.83 vs. 1.82).\n",
    "\n",
    "- **Calculations** (run in Jupyter):\n",
    "  ```python\n",
    "  # Odds Ratio\n",
    "  or_val = (table[0,0] * table[1,1]) / (table[0,1] * table[1,0])  # 1.8324\n",
    "\n",
    "  # Relative Risk\n",
    "  rr = (table[0,0] / total_no) / (table[1,0] / total_seat)  # 1.8181\n",
    "\n",
    "  # Risk Difference\n",
    "  rd = (table[0,0] / total_no) - (table[1,0] / total_seat)  # 0.0077\n",
    "\n",
    "  print(f\"Odds Ratio: {or_val:.4f}\")\n",
    "  print(f\"Relative Risk: {rr:.4f}\")\n",
    "  print(f\"Risk Difference: {rd:.4f}\")\n",
    "  ```\n",
    "\n",
    "- **Results and Interpretations**:\n",
    "  - **Odds Ratio = 1.8324**: The odds of a fatal injury are 1.83 times higher (or 83% higher) for individuals not using seat belts compared to those using them. This suggests a strong association, but OR overestimates RR slightly in non-rare cases.\n",
    "  - **Relative Risk = 1.8181**: The risk of fatal injury is 1.82 times higher (or 82% higher) for non-seat belt users. This is the preferred measure for prospective data, but valid here.\n",
    "  - **Risk Difference = 0.0077**: The proportion of fatal injuries is 0.77 percentage points higher for non-seat belt users. Useful for public health impact (e.g., number needed to treat: 1/RD ≈ 130 people need seat belts to prevent one fatal injury).\n",
    "  - **Why OR ≈ RR**: Fatal injuries are rare (1.33% overall), so the approximation holds. The small difference (1.832 vs. 1.818) is due to slight non-rarity, but it's negligible for interpretation.\n",
    "\n",
    "#### (b) Construct Confidence Intervals for Risk Difference, Relative Risk, and Odds Ratio (9 marks)\n",
    "- **Concepts** (95% CIs, assuming normality via large samples):\n",
    "  - **RD CI**: RD ± 1.96 * SE_RD, where SE_RD = √[p1(1-p1)/n1 + p2(1-p2)/n2].\n",
    "  - **RR CI**: On log scale for asymmetry: log(RR) ± 1.96 * SE_logRR, where SE_logRR = √[(1-p1)/(p1 n1) + (1-p2)/(p2 n2)]. Exponentiate back.\n",
    "  - **OR CI**: Similar to RR: log(OR) ± 1.96 * SE_logOR, where SE_logOR = √[1/a + 1/b + 1/c + 1/d]. Exponentiate.\n",
    "  - All CIs exclude 0 (for RD) or 1 (for RR/OR), indicating significance. Large n (>10k per group) ensures validity.\n",
    "\n",
    "- **Calculations** (run in Jupyter):\n",
    "  ```python\n",
    "  p1 = table[0,0] / total_no\n",
    "  p2 = table[1,0] / total_seat\n",
    "\n",
    "  # RD CI\n",
    "  se_rd = np.sqrt(p1*(1-p1)/total_no + p2*(1-p2)/total_seat)\n",
    "  ci_rd = (rd - 1.96*se_rd, rd + 1.96*se_rd)  # (0.0047, 0.0107)\n",
    "\n",
    "  # RR CI\n",
    "  se_log_rr = np.sqrt((1-p1)/(p1 * total_no) + (1-p2)/(p2 * total_seat))\n",
    "  log_rr = np.log(rr)\n",
    "  ci_log_rr = (log_rr - 1.96*se_log_rr, log_rr + 1.96*se_log_rr)\n",
    "  ci_rr = (np.exp(ci_log_rr[0]), np.exp(ci_log_rr[1]))  # (1.4333, 2.3063)\n",
    "\n",
    "  # OR CI\n",
    "  se_log_or = np.sqrt(1/table[0,0] + 1/table[0,1] + 1/table[1,0] + 1/table[1,1])\n",
    "  log_or = np.log(or_val)\n",
    "  ci_log_or = (log_or - 1.96*se_log_or, log_or + 1.96*se_log_or)\n",
    "  ci_or = (np.exp(ci_log_or[0]), np.exp(ci_log_or[1]))  # (1.4403, 2.3312)\n",
    "\n",
    "  print(f\"Risk Difference: {rd:.4f} (95% CI: {ci_rd[0]:.4f}, {ci_rd[1]:.4f})\")\n",
    "  print(f\"Relative Risk: {rr:.4f} (95% CI: {ci_rr[0]:.4f}, {ci_rr[1]:.4f})\")\n",
    "  print(f\"Odds Ratio: {or_val:.4f} (95% CI: {ci_or[0]:.4f}, {ci_or[1]:.4f})\")\n",
    "  ```\n",
    "\n",
    "- **Results**:\n",
    "  - Risk Difference: 0.0077 (95% CI: 0.0047, 0.0107)\n",
    "  - Relative Risk: 1.8181 (95% CI: 1.4333, 2.3063)\n",
    "  - Odds Ratio: 1.8324 (95% CI: 1.4403, 2.3312)\n",
    "\n",
    "#### (c) Conduct a Chi-Square Test for Association (alpha = 0.05) (8 marks)\n",
    "- **Concepts**: Tests H0: No association (independent) vs. HA: Association exists. Chi-square statistic = Σ[(O - E)^2 / E], df=1. P-value < 0.05 rejects H0. Assumptions: Large expected counts (>5, which holds here). Alternative: Fisher's exact for small cells, but not needed.\n",
    "\n",
    "- **Calculations** (run in Jupyter):\n",
    "  ```python\n",
    "  chi2, p, dof, expected = stats.chi2_contingency(table)\n",
    "  print(f\"Chi-square statistic: {chi2:.4f}\")\n",
    "  print(f\"p-value: {p:.4e}\")\n",
    "  print(f\"Degrees of freedom: {dof}\")\n",
    "  print(\"Expected frequencies:\\n\", expected)\n",
    "  ```\n",
    "\n",
    "- **Results**:\n",
    "  - Chi-square statistic: 24.4445\n",
    "  - p-value: 7.6480e-07\n",
    "  - Degrees of freedom: 1\n",
    "  - Expected frequencies:\n",
    "    ```\n",
    "    [[  146.47 10885.53]\n",
    "     [  146.53 10890.47]]\n",
    "    ```\n",
    "- **Interpretation**: p-value << 0.05, reject H0. There is strong evidence of an association between safety equipment use and injury nature. Specifically, not using seat belts is associated with higher fatal injuries (as per OR/RR >1).\n",
    "\n",
    "For presentation: Organize in a report-style section with tables, bold key results, and brief explanations. Optionally, add a bar plot:\n",
    "```python\n",
    "# Optional visualization\n",
    "proportions = [prop_fatal_no, prop_fatal_seat]\n",
    "plt.bar(labels, proportions)\n",
    "plt.ylabel('Proportion Fatal')\n",
    "plt.title('Proportion of Fatal Injuries by Safety Equipment')\n",
    "plt.show()\n",
    "```\n",
    "\n",
    "This completes Question 1. Let me know if we proceed to Question 2 now, or if you want refinements (e.g., more derivations or sensitivity checks)."
   ]
  },
  {
   "cell_type": "code",
   "execution_count": 1,
   "id": "717fea70-14d1-45cd-b357-84a4bd73d92e",
   "metadata": {},
   "outputs": [
    {
     "name": "stdout",
     "output_type": "stream",
     "text": [
      "Proportion fatal (no seat belt): 0.0171\n",
      "Proportion fatal (seat belt): 0.0094\n"
     ]
    }
   ],
   "source": [
    "# In Jupyter, start by defining the data:\n",
    "import numpy as np\n",
    "import scipy.stats as stats\n",
    "import matplotlib.pyplot as plt  # Optional for visualizations\n",
    "\n",
    "# Define the contingency table\n",
    "table = np.array([[189, 10843], [104, 10933]])\n",
    "labels = ['None', 'Seat belt']\n",
    "\n",
    "# Row totals (exposure groups)\n",
    "total_no = table[0].sum()  # 11032\n",
    "total_seat = table[1].sum()  # 11037\n",
    "\n",
    "# Proportions for quick check\n",
    "prop_fatal_no = table[0,0] / total_no  # ~0.0171\n",
    "prop_fatal_seat = table[1,0] / total_seat  # ~0.0094\n",
    "print(f\"Proportion fatal (no seat belt): {prop_fatal_no:.4f}\")\n",
    "print(f\"Proportion fatal (seat belt): {prop_fatal_seat:.4f}\")"
   ]
  },
  {
   "cell_type": "markdown",
   "id": "787fe051-9931-4769-b3ea-bbbdc5f79d24",
   "metadata": {},
   "source": [
    "#### (a) Compute and Interpret Odds Ratio, Relative Risk, and Difference in Proportions (8 marks)\n",
    "- **Concepts**:\n",
    "  - **Odds Ratio (OR)**: Ratio of odds of fatal injury in exposed (no seat belt) vs. unexposed (seat belt). Odds = P(event) / (1 - P(event)). Formula: OR = (a/d) / (b/c) = (a * d) / (b * c), where a=189 (fatal none), b=104 (fatal seat), c=10843 (non-fatal none), d=10933 (non-fatal seat). Interprets multiplicative increase in odds.\n",
    "  - **Relative Risk (RR)**: Ratio of probabilities (risks) of fatal injury in exposed vs. unexposed. RR = [a / (a+c)] / [b / (b+d)]. Interprets multiplicative increase in risk.\n",
    "  - **Risk Difference (RD, or Difference in Proportions)**: Absolute difference in risks. RD = p1 - p2. Interprets additive difference.\n",
    "  - **Why OR ≈ RR?** In rare events (low prevalence), the denominator (1 - p) ≈ 1 for both groups, so odds ≈ risk, making OR ≈ RR. Mathematically: RR = OR * [(1 - p_unexposed) / (1 - p_exposed)], and when p << 1, this ≈ OR. Here, p_fatal ≈ 0.013, so approximation holds (we'll see values are close: 1.83 vs. 1.82)."
   ]
  },
  {
   "cell_type": "markdown",
   "id": "439273dd-ff62-4ead-924a-f099f8f747c1",
   "metadata": {},
   "source": [
    "**Calculations**"
   ]
  },
  {
   "cell_type": "code",
   "execution_count": 2,
   "id": "7c7bfc4a-ba2a-4670-a5a6-c9539407eda5",
   "metadata": {},
   "outputs": [
    {
     "name": "stdout",
     "output_type": "stream",
     "text": [
      "Odds Ratio: 1.8324\n",
      "Relative Risk: 1.8181\n",
      "Risk Difference: 0.0077\n"
     ]
    }
   ],
   "source": [
    "  # Odds Ratio\n",
    "  or_val = (table[0,0] * table[1,1]) / (table[0,1] * table[1,0])  # 1.8324\n",
    "\n",
    "  # Relative Risk\n",
    "  rr = (table[0,0] / total_no) / (table[1,0] / total_seat)  # 1.8181\n",
    "\n",
    "  # Risk Difference\n",
    "  rd = (table[0,0] / total_no) - (table[1,0] / total_seat)  # 0.0077\n",
    "\n",
    "  print(f\"Odds Ratio: {or_val:.4f}\")\n",
    "  print(f\"Relative Risk: {rr:.4f}\")\n",
    "  print(f\"Risk Difference: {rd:.4f}\")"
   ]
  },
  {
   "cell_type": "markdown",
   "id": "e45d9a47-4f59-4b1f-8da0-a9a747f67660",
   "metadata": {},
   "source": [
    "- **Results and Interpretations**:\n",
    "  - **Odds Ratio = 1.8324**: The odds of a fatal injury are 1.83 times higher (or 83% higher) for individuals not using seat belts compared to those using them. This suggests a strong association, but OR overestimates RR slightly in non-rare cases.\n",
    "  - **Relative Risk = 1.8181**: The risk of fatal injury is 1.82 times higher (or 82% higher) for non-seat belt users. This is the preferred measure for prospective data, but valid here.\n",
    "  - **Risk Difference = 0.0077**: The proportion of fatal injuries is 0.77 percentage points higher for non-seat belt users. Useful for public health impact (e.g., number needed to treat: 1/RD ≈ 130 people need seat belts to prevent one fatal injury).\n",
    "  - **Why OR ≈ RR**: Fatal injuries are rare (1.33% overall), so the approximation holds. The small difference (1.832 vs. 1.818) is due to slight non-rarity, but it's negligible for interpretation."
   ]
  },
  {
   "cell_type": "markdown",
   "id": "c9e3c428-58d3-4dc0-8c1d-f668720295aa",
   "metadata": {},
   "source": [
    "#### (b) Construct Confidence Intervals for Risk Difference, Relative Risk, and Odds Ratio (9 marks)\n",
    "- **Concepts** (95% CIs, assuming normality via large samples):\n",
    "  - **RD CI**: RD ± 1.96 * SE_RD, where SE_RD = √[p1(1-p1)/n1 + p2(1-p2)/n2].\n",
    "  - **RR CI**: On log scale for asymmetry: log(RR) ± 1.96 * SE_logRR, where SE_logRR = √[(1-p1)/(p1 n1) + (1-p2)/(p2 n2)]. Exponentiate back.\n",
    "  - **OR CI**: Similar to RR: log(OR) ± 1.96 * SE_logOR, where SE_logOR = √[1/a + 1/b + 1/c + 1/d]. Exponentiate.\n",
    "  - All CIs exclude 0 (for RD) or 1 (for RR/OR), indicating significance. Large n (>10k per group) ensures validity."
   ]
  },
  {
   "cell_type": "markdown",
   "id": "c91e76ba-3e69-4780-8d92-615ccfc760bf",
   "metadata": {},
   "source": [
    "**Calculations**"
   ]
  },
  {
   "cell_type": "code",
   "execution_count": 5,
   "id": "d4ffcce2-6107-4cc4-96b1-661bb4c38e8e",
   "metadata": {},
   "outputs": [
    {
     "name": "stdout",
     "output_type": "stream",
     "text": [
      "Risk Difference: 0.0077 (95% CI: 0.0047, 0.0107)\n",
      "Relative Risk: 1.8181 (95% CI: 1.4333, 2.3063)\n",
      "Odds Ratio: 1.8324 (95% CI: 1.4403, 2.3312)\n"
     ]
    }
   ],
   "source": [
    "  p1 = table[0,0] / total_no\n",
    "  p2 = table[1,0] / total_seat\n",
    "\n",
    "  # RD CI\n",
    "  se_rd = np.sqrt(p1*(1-p1)/total_no + p2*(1-p2)/total_seat)\n",
    "  ci_rd = (rd - 1.96*se_rd, rd + 1.96*se_rd)  # (0.0047, 0.0107)\n",
    "\n",
    "  # RR CI\n",
    "  se_log_rr = np.sqrt((1-p1)/(p1 * total_no) + (1-p2)/(p2 * total_seat))\n",
    "  log_rr = np.log(rr)\n",
    "  ci_log_rr = (log_rr - 1.96*se_log_rr, log_rr + 1.96*se_log_rr)\n",
    "  ci_rr = (np.exp(ci_log_rr[0]), np.exp(ci_log_rr[1]))  # (1.4333, 2.3063)\n",
    "\n",
    "  # OR CI\n",
    "  se_log_or = np.sqrt(1/table[0,0] + 1/table[0,1] + 1/table[1,0] + 1/table[1,1])\n",
    "  log_or = np.log(or_val)\n",
    "  ci_log_or = (log_or - 1.96*se_log_or, log_or + 1.96*se_log_or)\n",
    "  ci_or = (np.exp(ci_log_or[0]), np.exp(ci_log_or[1]))  # (1.4403, 2.3312)\n",
    "\n",
    "  print(f\"Risk Difference: {rd:.4f} (95% CI: {ci_rd[0]:.4f}, {ci_rd[1]:.4f})\")\n",
    "  print(f\"Relative Risk: {rr:.4f} (95% CI: {ci_rr[0]:.4f}, {ci_rr[1]:.4f})\")\n",
    "  print(f\"Odds Ratio: {or_val:.4f} (95% CI: {ci_or[0]:.4f}, {ci_or[1]:.4f})\")"
   ]
  },
  {
   "cell_type": "markdown",
   "id": "fe4e2524-ab32-42b4-9270-d6d392e319d4",
   "metadata": {},
   "source": [
    "- **Results**:\n",
    "  - Risk Difference: 0.0077 (95% CI: 0.0047, 0.0107)\n",
    "  - Relative Risk: 1.8181 (95% CI: 1.4333, 2.3063)\n",
    "  - Odds Ratio: 1.8324 (95% CI: 1.4403, 2.3312)"
   ]
  },
  {
   "cell_type": "markdown",
   "id": "10d53b98-6116-4889-87c5-9b4ff9a559cd",
   "metadata": {},
   "source": [
    "#### (c) Conduct a Chi-Square Test for Association (alpha = 0.05) (8 marks)\n",
    "- **Concepts**: Tests H0: No association (independent) vs. HA: Association exists. Chi-square statistic = Σ[(O - E)^2 / E], df=1. P-value < 0.05 rejects H0. Assumptions: Large expected counts (>5, which holds here). Alternative: Fisher's exact for small cells, but not needed.\n",
    "- **Calculations**"
   ]
  },
  {
   "cell_type": "code",
   "execution_count": 6,
   "id": "7b4e6688-48b8-4a81-9bd0-5903f362547d",
   "metadata": {},
   "outputs": [
    {
     "name": "stdout",
     "output_type": "stream",
     "text": [
      "Chi-square statistic: 24.4445\n",
      "p-value: 7.6480e-07\n",
      "Degrees of freedom: 1\n",
      "Expected frequencies:\n",
      " [[  146.46680865 10885.53319135]\n",
      " [  146.53319135 10890.46680865]]\n"
     ]
    }
   ],
   "source": [
    "  chi2, p, dof, expected = stats.chi2_contingency(table)\n",
    "  print(f\"Chi-square statistic: {chi2:.4f}\")\n",
    "  print(f\"p-value: {p:.4e}\")\n",
    "  print(f\"Degrees of freedom: {dof}\")\n",
    "  print(\"Expected frequencies:\\n\", expected)"
   ]
  },
  {
   "cell_type": "code",
   "execution_count": null,
   "id": "933ec2d0-4d48-4a27-8911-fc6e8326b003",
   "metadata": {},
   "outputs": [],
   "source": []
  },
  {
   "cell_type": "code",
   "execution_count": null,
   "id": "7ecaf9cd-2af2-405e-975d-e29c0b92303e",
   "metadata": {},
   "outputs": [],
   "source": []
  },
  {
   "cell_type": "code",
   "execution_count": null,
   "id": "423879d2-4859-4782-bef9-c68ed13f48db",
   "metadata": {},
   "outputs": [],
   "source": []
  },
  {
   "cell_type": "code",
   "execution_count": 4,
   "id": "4f20ab87-ddf6-44d5-b34b-024246653cca",
   "metadata": {},
   "outputs": [
    {
     "name": "stdout",
     "output_type": "stream",
     "text": [
      "2x2 table:\n",
      "         Fatal   Non-fatal   Row total\n",
      "No belt      189       10843       11032\n",
      "Seat belt    104       10933       11037\n",
      "Grand total = 22069\n",
      "\n",
      "Proportions / measures:\n",
      "Risk (no belt)   p1 = 0.0171319797  (1.7132%)\n",
      "Risk (seat belt) p2 = 0.0094228504  (0.9423%)\n",
      "Risk difference  RD = 0.0077091293  (0.7709%)  95% CI = (0.0046904515, 0.0107278070)\n",
      "\n",
      "Relative risk    RR = 1.818131  95% CI = (1.433285, 2.306312)\n",
      "Odds ratio       OR = 1.832392  95% CI = (1.440301, 2.331220)\n",
      "\n",
      "Chi-square tests:\n",
      "Expected counts (rows x cols):\n",
      "[[  146.46680865 10885.53319135]\n",
      " [  146.53319135 10890.46680865]]\n",
      "Pearson chi2 = 25.029541, df = 1, p = 5.645865e-07\n",
      "Yates corrected chi2 = 24.444529, p = 7.648039e-07\n",
      "Fisher exact OR = 1.832392, Fisher p = 5.021416e-07\n",
      "\n",
      "Interpretation:\n",
      "- OR and RR are ~1.8 (similar because fatality is rare).\n",
      "- RD is ~0.00771 => ~0.77 percentage points (≈7.71 / 1000).\n",
      "- Chi-square p << 0.05 -> evidence of association between seat-belt use and fatality.\n"
     ]
    }
   ],
   "source": [
    "# Run this in a Jupyter cell\n",
    "import math\n",
    "import numpy as np\n",
    "from scipy.stats import chi2_contingency, fisher_exact\n",
    "\n",
    "# Data\n",
    "a = 189\n",
    "b = 10843\n",
    "c = 104\n",
    "d = 10933\n",
    "\n",
    "# Totals\n",
    "n1 = a + b\n",
    "n2 = c + d\n",
    "grand = n1 + n2\n",
    "\n",
    "# Risks\n",
    "p1 = a / n1\n",
    "p2 = c / n2\n",
    "RD = p1 - p2\n",
    "OR = (a * d) / (b * c)\n",
    "RR = p1 / p2\n",
    "\n",
    "# RD CI\n",
    "var1 = p1 * (1 - p1) / n1\n",
    "var2 = p2 * (1 - p2) / n2\n",
    "se_rd = math.sqrt(var1 + var2)\n",
    "z = 1.96\n",
    "rd_ci = (RD - z * se_rd, RD + z * se_rd)\n",
    "\n",
    "# RR CI (log method)\n",
    "se_log_rr = math.sqrt((1 / a - 1 / n1) + (1 / c - 1 / n2))\n",
    "ln_rr = math.log(RR)\n",
    "rr_ci = (math.exp(ln_rr - z * se_log_rr), math.exp(ln_rr + z * se_log_rr))\n",
    "\n",
    "# OR CI (log method)\n",
    "se_log_or = math.sqrt(1 / a + 1 / b + 1 / c + 1 / d)\n",
    "ln_or = math.log(OR)\n",
    "or_ci = (math.exp(ln_or - z * se_log_or), math.exp(ln_or + z * se_log_or))\n",
    "\n",
    "# Chi-square tests\n",
    "table = np.array([[a, b],\n",
    "                  [c, d]])\n",
    "chi2, p_value, dof, expected = chi2_contingency(table, correction=False)\n",
    "chi2_yates, p_yates, _, _ = chi2_contingency(table, correction=True)\n",
    "fisher_or, fisher_p = fisher_exact(table, alternative='two-sided')\n",
    "\n",
    "# Print nicely\n",
    "print(\"2x2 table:\")\n",
    "print(f\"         Fatal   Non-fatal   Row total\")\n",
    "print(f\"No belt   {a:6d}   {b:9d}   {n1:9d}\")\n",
    "print(f\"Seat belt {c:6d}   {d:9d}   {n2:9d}\")\n",
    "print(f\"Grand total = {grand}\\n\")\n",
    "\n",
    "print(\"Proportions / measures:\")\n",
    "print(f\"Risk (no belt)   p1 = {p1:.10f}  ({p1*100:.4f}%)\")\n",
    "print(f\"Risk (seat belt) p2 = {p2:.10f}  ({p2*100:.4f}%)\")\n",
    "print(f\"Risk difference  RD = {RD:.10f}  ({RD*100:.4f}%)  95% CI = ({rd_ci[0]:.10f}, {rd_ci[1]:.10f})\\n\")\n",
    "\n",
    "print(f\"Relative risk    RR = {RR:.6f}  95% CI = ({rr_ci[0]:.6f}, {rr_ci[1]:.6f})\")\n",
    "print(f\"Odds ratio       OR = {OR:.6f}  95% CI = ({or_ci[0]:.6f}, {or_ci[1]:.6f})\\n\")\n",
    "\n",
    "print(\"Chi-square tests:\")\n",
    "print(f\"Expected counts (rows x cols):\\n{expected}\")\n",
    "print(f\"Pearson chi2 = {chi2:.6f}, df = {dof}, p = {p_value:.6e}\")\n",
    "print(f\"Yates corrected chi2 = {chi2_yates:.6f}, p = {p_yates:.6e}\")\n",
    "print(f\"Fisher exact OR = {fisher_or:.6f}, Fisher p = {fisher_p:.6e}\\n\")\n",
    "\n",
    "print('Interpretation:')\n",
    "print('- OR and RR are ~1.8 (similar because fatality is rare).')\n",
    "print('- RD is ~0.00771 => ~0.77 percentage points (≈7.71 / 1000).')\n",
    "print('- Chi-square p << 0.05 -> evidence of association between seat-belt use and fatality.')\n"
   ]
  },
  {
   "cell_type": "code",
   "execution_count": null,
   "id": "0fc282f6-d251-4bb0-a01a-a50ce2ef5432",
   "metadata": {},
   "outputs": [],
   "source": []
  }
 ],
 "metadata": {
  "kernelspec": {
   "display_name": "Python (ml_env)",
   "language": "python",
   "name": "ml_env"
  },
  "language_info": {
   "codemirror_mode": {
    "name": "ipython",
    "version": 3
   },
   "file_extension": ".py",
   "mimetype": "text/x-python",
   "name": "python",
   "nbconvert_exporter": "python",
   "pygments_lexer": "ipython3",
   "version": "3.11.13"
  }
 },
 "nbformat": 4,
 "nbformat_minor": 5
}
