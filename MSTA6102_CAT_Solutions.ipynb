{
 "cells": [
  {
   "cell_type": "markdown",
   "id": "7c700eb0",
   "metadata": {
    "language": "markdown"
   },
   "source": [
    "# MSTA6102 CAT Solutions (Questions 1–3)\n",
    "*Prepared by your statistical tutor in residence — bridging examiner-level rigor with learner-friendly storytelling.*\n",
    "\n",
    "Welcome! In this notebook we walk through the full CAT for MSTA6102, solving Questions 1, 2, and 3 with a blend of mathematical formality and intuitive commentary. Each section is structured to mimic an exam script that simultaneously coaches a novice learner."
   ]
  },
  {
   "cell_type": "markdown",
   "id": "0e18a86f",
   "metadata": {
    "language": "markdown"
   },
   "source": [
    "## Roadmap\n",
    "1. [Set-up & session information](#setup)\n",
    "2. [Question 1 — Seat belts versus none](#q1)\n",
    "3. [Question 2 — Oracon case–control study](#q2)\n",
    "4. [Question 3 — Mini project logistic regression](#q3)\n",
    "5. [Deliverables & final checklist](#deliverables)"
   ]
  },
  {
   "cell_type": "markdown",
   "id": "57a94c46",
   "metadata": {
    "language": "markdown"
   },
   "source": [
    "## 1. Environment set-up <a id=\"setup\"></a>\n",
    "We begin by importing the required packages, fixing a reproducible seed, and preparing a shared dictionary that will store key numerical results for the final checklist."
   ]
  },
  {
   "cell_type": "code",
   "execution_count": 1,
   "id": "28b5e447",
   "metadata": {
    "language": "python"
   },
   "outputs": [
    {
     "name": "stdout",
     "output_type": "stream",
     "text": [
      "Environment ready — core packages imported.\n"
     ]
    }
   ],
   "source": [
    "import os\n",
    "import sys\n",
    "import math\n",
    "import json\n",
    "import shutil\n",
    "import warnings\n",
    "from pathlib import Path\n",
    "\n",
    "import numpy as np\n",
    "import pandas as pd\n",
    "import scipy\n",
    "from scipy import stats\n",
    "import statsmodels.api as sm\n",
    "import statsmodels.formula.api as smf\n",
    "from statsmodels.stats import contingency_tables\n",
    "from statsmodels.stats.proportion import proportions_ztest\n",
    "import matplotlib.pyplot as plt\n",
    "\n",
    "RANDOM_SEED = 6102\n",
    "rng = np.random.default_rng(RANDOM_SEED)\n",
    "\n",
    "NOTEBOOK_NAME = \"MSTA6102_CAT_Solutions.ipynb\"\n",
    "DELIVERABLE_DIR = Path(\"/mnt/data\")\n",
    "try:\n",
    "    DELIVERABLE_DIR.mkdir(parents=True, exist_ok=True)\n",
    "except Exception as exc:\n",
    "    fallback_dir = Path.cwd() / \"mnt_data_fallback\"\n",
    "    fallback_dir.mkdir(parents=True, exist_ok=True)\n",
    "    print(f\"⚠️ Could not create /mnt/data ({exc}). Using {fallback_dir} instead.\")\n",
    "    DELIVERABLE_DIR = fallback_dir\n",
    "\n",
    "SUMMARY_RESULTS = {}\n",
    "\n",
    "pkg_versions = {\n",
    "    \"python\": sys.version.split()[0],\n",
    "    \"numpy\": np.__version__,\n",
    "    \"pandas\": pd.__version__,\n",
    "    \"scipy\": scipy.__version__,\n",
    "    \"statsmodels\": sm.__version__,\n",
    "    \"matplotlib\": plt.matplotlib.__version__,\n",
    "}\n",
    "\n",
    "try:\n",
    "    import pptx  # noqa: F401\n",
    "    from pptx.util import Inches, Pt\n",
    "    pkg_versions[\"python-pptx\"] = pptx.__version__\n",
    "except Exception:\n",
    "    pkg_versions[\"python-pptx\"] = \"not-installed\"\n",
    "\n",
    "print(\"Environment ready — core packages imported.\")"
   ]
  },
  {
   "cell_type": "code",
   "execution_count": 2,
   "id": "3ecf65ce",
   "metadata": {
    "language": "python"
   },
   "outputs": [
    {
     "name": "stdout",
     "output_type": "stream",
     "text": [
      "Session information (sorted alphabetically):\n"
     ]
    },
    {
     "data": {
      "application/vnd.microsoft.datawrangler.viewer.v0+json": {
       "columns": [
        {
         "name": "index",
         "rawType": "int64",
         "type": "integer"
        },
        {
         "name": "Package",
         "rawType": "object",
         "type": "string"
        },
        {
         "name": "Version",
         "rawType": "object",
         "type": "string"
        }
       ],
       "ref": "01e2a650-7be9-4da8-88f3-bf8070c2393a",
       "rows": [
        [
         "0",
         "matplotlib",
         "3.10.6"
        ],
        [
         "1",
         "numpy",
         "2.1.3"
        ],
        [
         "2",
         "pandas",
         "2.3.2"
        ],
        [
         "3",
         "python",
         "3.11.13"
        ],
        [
         "4",
         "python-pptx",
         "1.0.2"
        ],
        [
         "5",
         "scipy",
         "1.16.2"
        ],
        [
         "6",
         "statsmodels",
         "0.14.5"
        ]
       ],
       "shape": {
        "columns": 2,
        "rows": 7
       }
      },
      "text/html": [
       "<div>\n",
       "<style scoped>\n",
       "    .dataframe tbody tr th:only-of-type {\n",
       "        vertical-align: middle;\n",
       "    }\n",
       "\n",
       "    .dataframe tbody tr th {\n",
       "        vertical-align: top;\n",
       "    }\n",
       "\n",
       "    .dataframe thead th {\n",
       "        text-align: right;\n",
       "    }\n",
       "</style>\n",
       "<table border=\"1\" class=\"dataframe\">\n",
       "  <thead>\n",
       "    <tr style=\"text-align: right;\">\n",
       "      <th></th>\n",
       "      <th>Package</th>\n",
       "      <th>Version</th>\n",
       "    </tr>\n",
       "  </thead>\n",
       "  <tbody>\n",
       "    <tr>\n",
       "      <th>0</th>\n",
       "      <td>matplotlib</td>\n",
       "      <td>3.10.6</td>\n",
       "    </tr>\n",
       "    <tr>\n",
       "      <th>1</th>\n",
       "      <td>numpy</td>\n",
       "      <td>2.1.3</td>\n",
       "    </tr>\n",
       "    <tr>\n",
       "      <th>2</th>\n",
       "      <td>pandas</td>\n",
       "      <td>2.3.2</td>\n",
       "    </tr>\n",
       "    <tr>\n",
       "      <th>3</th>\n",
       "      <td>python</td>\n",
       "      <td>3.11.13</td>\n",
       "    </tr>\n",
       "    <tr>\n",
       "      <th>4</th>\n",
       "      <td>python-pptx</td>\n",
       "      <td>1.0.2</td>\n",
       "    </tr>\n",
       "    <tr>\n",
       "      <th>5</th>\n",
       "      <td>scipy</td>\n",
       "      <td>1.16.2</td>\n",
       "    </tr>\n",
       "    <tr>\n",
       "      <th>6</th>\n",
       "      <td>statsmodels</td>\n",
       "      <td>0.14.5</td>\n",
       "    </tr>\n",
       "  </tbody>\n",
       "</table>\n",
       "</div>"
      ],
      "text/plain": [
       "       Package  Version\n",
       "0   matplotlib   3.10.6\n",
       "1        numpy    2.1.3\n",
       "2       pandas    2.3.2\n",
       "3       python  3.11.13\n",
       "4  python-pptx    1.0.2\n",
       "5        scipy   1.16.2\n",
       "6  statsmodels   0.14.5"
      ]
     },
     "metadata": {},
     "output_type": "display_data"
    }
   ],
   "source": [
    "print(\"Session information (sorted alphabetically):\")\n",
    "info_df = pd.DataFrame(sorted(pkg_versions.items()), columns=[\"Package\", \"Version\"])\n",
    "display(info_df)"
   ]
  },
  {
   "cell_type": "markdown",
   "id": "6d681f5f",
   "metadata": {
    "language": "markdown"
   },
   "source": [
    "## 2. Question 1 — Seat belts versus none <a id=\"q1\"></a>\n",
    "We analyse the classic seat-belt dataset. Think of this like comparing two parachutes: one group jumps with a safety harness (seat belt) and the other without. Our goal is to quantify how much safer the harness truly is."
   ]
  },
  {
   "cell_type": "markdown",
   "id": "0d032ec2",
   "metadata": {
    "language": "markdown"
   },
   "source": [
    "### 2.1 Data recap and contingency table\n",
    "The raw counts are provided in the assessment. We encode them explicitly and display the $2\times 2$ layout using LaTeX so it reads exactly like an exam script.\n",
    "\n",
    "$$\n",
    "\begin{array}{c|cc|c}\n",
    "\text{Safety equipment} & \text{Fatal} & \text{Non-fatal} & \text{Row total}\\ \\hline\n",
    "\text{None} & a = 189 & b = 10{,}843 & n_1 = a + b = 11{,}032 \\\n",
    "\text{Seat belt} & c = 104 & d = 10{,}933 & n_2 = c + d = 11{,}037 \\\n",
    "\\hline\n",
    "\text{Column totals} & a + c = 293 & b + d = 21{,}776 & N = n_1 + n_2 = 22{,}069\n",
    "\\end{array}\n",
    "$$"
   ]
  },
  {
   "cell_type": "markdown",
   "id": "a8809bad",
   "metadata": {
    "language": "markdown"
   },
   "source": [
    "### 2.2 Manual derivations with full numeric substitutions\n",
    "We first compute all statistics *by hand* (via Python) to mirror the algebra taught in class. Each formula is shown alongside its numeric substitution.\n",
    "\n",
    "$$\n",
    "\\hat p_1 = \f\n",
    "rac{a}{n_1} = \f\n",
    "rac{189}{11{,}032}, \\qquad \\hat p_2 = \f\n",
    "rac{c}{n_2} = \f\n",
    "rac{104}{11{,}037}\n",
    "$$\n",
    "\n",
    "Relative risk (log method) with $z_{0.975}$:\n",
    "\n",
    "$$\n",
    "\\log(\\widehat{RR}) \\pm z_{0.975} \\sqrt{\f\n",
    "rac{1}{a} - \f\n",
    "rac{1}{n_1} + \f\n",
    "rac{1}{c} - \f\n",
    "rac{1}{n_2}}\n",
    "$$\n",
    "\n",
    "Odds ratio (Woolf log method):\n",
    "\n",
    "$$\n",
    "\\log(\\widehat{OR}) \\pm z_{0.975} \\sqrt{\f\n",
    "rac{1}{a} + \f\n",
    "rac{1}{b} + \f\n",
    "rac{1}{c} + \f\n",
    "rac{1}{d}}\n",
    "$$\n",
    "\n",
    "Absolute risk difference (ARR) with normal approximation:\n",
    "\n",
    "$$\n",
    "\\widehat{RD} = \\hat p_1 - \\hat p_2, \\qquad SE(\\widehat{RD}) = \\sqrt{\f\n",
    "rac{\\hat p_1(1-\\hat p_1)}{n_1} + \f\n",
    "rac{\\hat p_2(1-\\hat p_2)}{n_2}}\n",
    "$$\n",
    "\n",
    "Two-proportion $z$-test (pooled):\n",
    "\n",
    "$$\n",
    "z = \f\n",
    "rac{\\hat p_1 - \\hat p_2}{\\sqrt{\\hat p(1-\\hat p)(1/n_1 + 1/n_2)}}, \\qquad \\hat p = \f\n",
    "rac{a + c}{n_1 + n_2}\n",
    "$$"
   ]
  },
  {
   "cell_type": "code",
   "execution_count": 3,
   "id": "0b388324",
   "metadata": {
    "language": "python"
   },
   "outputs": [
    {
     "name": "stdout",
     "output_type": "stream",
     "text": [
      "Manual derivations complete — proceeding to cross-checks.\n"
     ]
    }
   ],
   "source": [
    "# Q1 manual computations\n",
    "a, b, c, d = 189, 10843, 104, 10933\n",
    "n1, n2 = a + b, c + d\n",
    "N = n1 + n2\n",
    "\n",
    "p1 = a / n1\n",
    "p2 = c / n2\n",
    "\n",
    "rr = p1 / p2\n",
    "se_log_rr = math.sqrt((1 / a) - (1 / n1) + (1 / c) - (1 / n2))\n",
    "z_crit = stats.norm.ppf(0.975)\n",
    "rr_ci = (math.exp(math.log(rr) - z_crit * se_log_rr), math.exp(math.log(rr) + z_crit * se_log_rr))\n",
    "\n",
    "or_est = (a * d) / (b * c)\n",
    "se_log_or = math.sqrt(1 / a + 1 / b + 1 / c + 1 / d)\n",
    "or_ci = (math.exp(math.log(or_est) - z_crit * se_log_or), math.exp(math.log(or_est) + z_crit * se_log_or))\n",
    "\n",
    "rd = p1 - p2\n",
    "se_rd = math.sqrt(p1 * (1 - p1) / n1 + p2 * (1 - p2) / n2)\n",
    "rd_ci = (rd - z_crit * se_rd, rd + z_crit * se_rd)\n",
    "\n",
    "pooled_p = (a + c) / (n1 + n2)\n",
    "se_pooled = math.sqrt(pooled_p * (1 - pooled_p) * (1 / n1 + 1 / n2))\n",
    "z_stat = (p1 - p2) / se_pooled\n",
    "p_value_z = 2 * (1 - stats.norm.cdf(abs(z_stat)))\n",
    "chi_square = z_stat ** 2\n",
    "p_value_chi2 = 1 - stats.chi2.cdf(chi_square, df=1)\n",
    "\n",
    "nnt = 1 / abs(rd) if rd != 0 else math.inf\n",
    "\n",
    "SUMMARY_RESULTS.update({\n",
    "    \"Q1_rr\": rr,\n",
    "    \"Q1_rr_ci_low\": rr_ci[0],\n",
    "    \"Q1_rr_ci_high\": rr_ci[1],\n",
    "    \"Q1_or\": or_est,\n",
    "    \"Q1_or_ci_low\": or_ci[0],\n",
    "    \"Q1_or_ci_high\": or_ci[1],\n",
    "    \"Q1_rd\": rd,\n",
    "    \"Q1_rd_ci_low\": rd_ci[0],\n",
    "    \"Q1_rd_ci_high\": rd_ci[1],\n",
    "    \"Q1_z\": z_stat,\n",
    "    \"Q1_p\": p_value_z,\n",
    "    \"Q1_nnt\": nnt,\n",
    "})\n",
    "\n",
    "print(\"Manual derivations complete — proceeding to cross-checks.\")"
   ]
  },
  {
   "cell_type": "code",
   "execution_count": 4,
   "id": "389c8a63",
   "metadata": {
    "language": "python"
   },
   "outputs": [
    {
     "data": {
      "application/vnd.microsoft.datawrangler.viewer.v0+json": {
       "columns": [
        {
         "name": "index",
         "rawType": "int64",
         "type": "integer"
        },
        {
         "name": "Statistic",
         "rawType": "object",
         "type": "string"
        },
        {
         "name": "Manual",
         "rawType": "float64",
         "type": "float"
        },
        {
         "name": "Statsmodels",
         "rawType": "float64",
         "type": "float"
        }
       ],
       "ref": "bb15c86b-26f5-4f06-9bcc-f27671edbc62",
       "rows": [
        [
         "0",
         "RR",
         "1.818131",
         "1.818131"
        ],
        [
         "1",
         "OR",
         "1.832392",
         "1.832392"
        ],
        [
         "2",
         "Risk difference",
         "0.007709",
         "0.007709"
        ],
        [
         "3",
         "z-statistic",
         "5.002953",
         "5.002953"
        ]
       ],
       "shape": {
        "columns": 3,
        "rows": 4
       }
      },
      "text/html": [
       "<div>\n",
       "<style scoped>\n",
       "    .dataframe tbody tr th:only-of-type {\n",
       "        vertical-align: middle;\n",
       "    }\n",
       "\n",
       "    .dataframe tbody tr th {\n",
       "        vertical-align: top;\n",
       "    }\n",
       "\n",
       "    .dataframe thead th {\n",
       "        text-align: right;\n",
       "    }\n",
       "</style>\n",
       "<table border=\"1\" class=\"dataframe\">\n",
       "  <thead>\n",
       "    <tr style=\"text-align: right;\">\n",
       "      <th></th>\n",
       "      <th>Statistic</th>\n",
       "      <th>Manual</th>\n",
       "      <th>Statsmodels</th>\n",
       "    </tr>\n",
       "  </thead>\n",
       "  <tbody>\n",
       "    <tr>\n",
       "      <th>0</th>\n",
       "      <td>RR</td>\n",
       "      <td>1.818131</td>\n",
       "      <td>1.818131</td>\n",
       "    </tr>\n",
       "    <tr>\n",
       "      <th>1</th>\n",
       "      <td>OR</td>\n",
       "      <td>1.832392</td>\n",
       "      <td>1.832392</td>\n",
       "    </tr>\n",
       "    <tr>\n",
       "      <th>2</th>\n",
       "      <td>Risk difference</td>\n",
       "      <td>0.007709</td>\n",
       "      <td>0.007709</td>\n",
       "    </tr>\n",
       "    <tr>\n",
       "      <th>3</th>\n",
       "      <td>z-statistic</td>\n",
       "      <td>5.002953</td>\n",
       "      <td>5.002953</td>\n",
       "    </tr>\n",
       "  </tbody>\n",
       "</table>\n",
       "</div>"
      ],
      "text/plain": [
       "         Statistic    Manual  Statsmodels\n",
       "0               RR  1.818131     1.818131\n",
       "1               OR  1.832392     1.832392\n",
       "2  Risk difference  0.007709     0.007709\n",
       "3      z-statistic  5.002953     5.002953"
      ]
     },
     "metadata": {},
     "output_type": "display_data"
    },
    {
     "name": "stdout",
     "output_type": "stream",
     "text": [
      "Differences arise only from rounding and the fact that statsmodels computes risk difference using observed proportions.\n"
     ]
    }
   ],
   "source": [
    "# Cross-checks using statsmodels helpers\n",
    "table = contingency_tables.Table2x2([[a, b], [c, d]])\n",
    "rr_sm = table.riskratio\n",
    "rr_sm_ci = table.riskratio_confint()\n",
    "or_sm = table.oddsratio\n",
    "or_sm_ci = table.oddsratio_confint()\n",
    "\n",
    "stat, p_ztest = proportions_ztest([a, c], [n1, n2])\n",
    "risk_diff_sm = (table.table[0, 0] / table.table[0].sum()) - (table.table[1, 0] / table.table[1].sum())\n",
    "\n",
    "report_df = pd.DataFrame({\n",
    "    \"Statistic\": [\"RR\", \"OR\", \"Risk difference\", \"z-statistic\"],\n",
    "    \"Manual\": [rr, or_est, rd, z_stat],\n",
    "    \"Statsmodels\": [rr_sm, or_sm, risk_diff_sm, stat],\n",
    "})\n",
    "\n",
    "display(report_df.round(6))\n",
    "print(\"Differences arise only from rounding and the fact that statsmodels computes risk difference using observed proportions.\")"
   ]
  },
  {
   "cell_type": "code",
   "execution_count": 5,
   "id": "6e2db5cb",
   "metadata": {
    "language": "python"
   },
   "outputs": [
    {
     "data": {
      "text/html": [
       "<style type=\"text/css\">\n",
       "</style>\n",
       "<table id=\"T_0af8b\">\n",
       "  <thead>\n",
       "    <tr>\n",
       "      <th class=\"blank level0\" >&nbsp;</th>\n",
       "      <th id=\"T_0af8b_level0_col0\" class=\"col_heading level0 col0\" >Metric</th>\n",
       "      <th id=\"T_0af8b_level0_col1\" class=\"col_heading level0 col1\" >Value</th>\n",
       "    </tr>\n",
       "  </thead>\n",
       "  <tbody>\n",
       "    <tr>\n",
       "      <th id=\"T_0af8b_level0_row0\" class=\"row_heading level0 row0\" >0</th>\n",
       "      <td id=\"T_0af8b_row0_col0\" class=\"data row0 col0\" >Risk (no belt)</td>\n",
       "      <td id=\"T_0af8b_row0_col1\" class=\"data row0 col1\" >0.017132</td>\n",
       "    </tr>\n",
       "    <tr>\n",
       "      <th id=\"T_0af8b_level0_row1\" class=\"row_heading level0 row1\" >1</th>\n",
       "      <td id=\"T_0af8b_row1_col0\" class=\"data row1 col0\" >Risk (seat belt)</td>\n",
       "      <td id=\"T_0af8b_row1_col1\" class=\"data row1 col1\" >0.009423</td>\n",
       "    </tr>\n",
       "    <tr>\n",
       "      <th id=\"T_0af8b_level0_row2\" class=\"row_heading level0 row2\" >2</th>\n",
       "      <td id=\"T_0af8b_row2_col0\" class=\"data row2 col0\" >Relative risk</td>\n",
       "      <td id=\"T_0af8b_row2_col1\" class=\"data row2 col1\" >1.818131</td>\n",
       "    </tr>\n",
       "    <tr>\n",
       "      <th id=\"T_0af8b_level0_row3\" class=\"row_heading level0 row3\" >3</th>\n",
       "      <td id=\"T_0af8b_row3_col0\" class=\"data row3 col0\" >RR 95% CI low</td>\n",
       "      <td id=\"T_0af8b_row3_col1\" class=\"data row3 col1\" >1.433291</td>\n",
       "    </tr>\n",
       "    <tr>\n",
       "      <th id=\"T_0af8b_level0_row4\" class=\"row_heading level0 row4\" >4</th>\n",
       "      <td id=\"T_0af8b_row4_col0\" class=\"data row4 col0\" >RR 95% CI high</td>\n",
       "      <td id=\"T_0af8b_row4_col1\" class=\"data row4 col1\" >2.306302</td>\n",
       "    </tr>\n",
       "    <tr>\n",
       "      <th id=\"T_0af8b_level0_row5\" class=\"row_heading level0 row5\" >5</th>\n",
       "      <td id=\"T_0af8b_row5_col0\" class=\"data row5 col0\" >Odds ratio</td>\n",
       "      <td id=\"T_0af8b_row5_col1\" class=\"data row5 col1\" >1.832392</td>\n",
       "    </tr>\n",
       "    <tr>\n",
       "      <th id=\"T_0af8b_level0_row6\" class=\"row_heading level0 row6\" >6</th>\n",
       "      <td id=\"T_0af8b_row6_col0\" class=\"data row6 col0\" >OR 95% CI low</td>\n",
       "      <td id=\"T_0af8b_row6_col1\" class=\"data row6 col1\" >1.440308</td>\n",
       "    </tr>\n",
       "    <tr>\n",
       "      <th id=\"T_0af8b_level0_row7\" class=\"row_heading level0 row7\" >7</th>\n",
       "      <td id=\"T_0af8b_row7_col0\" class=\"data row7 col0\" >OR 95% CI high</td>\n",
       "      <td id=\"T_0af8b_row7_col1\" class=\"data row7 col1\" >2.331210</td>\n",
       "    </tr>\n",
       "    <tr>\n",
       "      <th id=\"T_0af8b_level0_row8\" class=\"row_heading level0 row8\" >8</th>\n",
       "      <td id=\"T_0af8b_row8_col0\" class=\"data row8 col0\" >Risk difference</td>\n",
       "      <td id=\"T_0af8b_row8_col1\" class=\"data row8 col1\" >0.007709</td>\n",
       "    </tr>\n",
       "    <tr>\n",
       "      <th id=\"T_0af8b_level0_row9\" class=\"row_heading level0 row9\" >9</th>\n",
       "      <td id=\"T_0af8b_row9_col0\" class=\"data row9 col0\" >RD 95% CI low</td>\n",
       "      <td id=\"T_0af8b_row9_col1\" class=\"data row9 col1\" >0.004691</td>\n",
       "    </tr>\n",
       "    <tr>\n",
       "      <th id=\"T_0af8b_level0_row10\" class=\"row_heading level0 row10\" >10</th>\n",
       "      <td id=\"T_0af8b_row10_col0\" class=\"data row10 col0\" >RD 95% CI high</td>\n",
       "      <td id=\"T_0af8b_row10_col1\" class=\"data row10 col1\" >0.010728</td>\n",
       "    </tr>\n",
       "    <tr>\n",
       "      <th id=\"T_0af8b_level0_row11\" class=\"row_heading level0 row11\" >11</th>\n",
       "      <td id=\"T_0af8b_row11_col0\" class=\"data row11 col0\" >Two-proportion z</td>\n",
       "      <td id=\"T_0af8b_row11_col1\" class=\"data row11 col1\" >5.002953</td>\n",
       "    </tr>\n",
       "    <tr>\n",
       "      <th id=\"T_0af8b_level0_row12\" class=\"row_heading level0 row12\" >12</th>\n",
       "      <td id=\"T_0af8b_row12_col0\" class=\"data row12 col0\" >P-value (z-test)</td>\n",
       "      <td id=\"T_0af8b_row12_col1\" class=\"data row12 col1\" >0.000001</td>\n",
       "    </tr>\n",
       "    <tr>\n",
       "      <th id=\"T_0af8b_level0_row13\" class=\"row_heading level0 row13\" >13</th>\n",
       "      <td id=\"T_0af8b_row13_col0\" class=\"data row13 col0\" >Chi-square</td>\n",
       "      <td id=\"T_0af8b_row13_col1\" class=\"data row13 col1\" >25.029541</td>\n",
       "    </tr>\n",
       "    <tr>\n",
       "      <th id=\"T_0af8b_level0_row14\" class=\"row_heading level0 row14\" >14</th>\n",
       "      <td id=\"T_0af8b_row14_col0\" class=\"data row14 col0\" >P-value (chi-square)</td>\n",
       "      <td id=\"T_0af8b_row14_col1\" class=\"data row14 col1\" >0.000001</td>\n",
       "    </tr>\n",
       "    <tr>\n",
       "      <th id=\"T_0af8b_level0_row15\" class=\"row_heading level0 row15\" >15</th>\n",
       "      <td id=\"T_0af8b_row15_col0\" class=\"data row15 col0\" >Number needed to treat (harm)</td>\n",
       "      <td id=\"T_0af8b_row15_col1\" class=\"data row15 col1\" >129.716335</td>\n",
       "    </tr>\n",
       "  </tbody>\n",
       "</table>\n"
      ],
      "text/plain": [
       "<pandas.io.formats.style.Styler at 0x2432bcbb990>"
      ]
     },
     "metadata": {},
     "output_type": "display_data"
    },
    {
     "name": "stdout",
     "output_type": "stream",
     "text": [
      "Q1 complete — results validated.\n"
     ]
    }
   ],
   "source": [
    "# Explicit printout of key Question 1 metrics\n",
    "q1_summary = pd.DataFrame([\n",
    "    {\"Metric\": \"Risk (no belt)\", \"Value\": p1},\n",
    "    {\"Metric\": \"Risk (seat belt)\", \"Value\": p2},\n",
    "    {\"Metric\": \"Relative risk\", \"Value\": rr},\n",
    "    {\"Metric\": \"RR 95% CI low\", \"Value\": rr_ci[0]},\n",
    "    {\"Metric\": \"RR 95% CI high\", \"Value\": rr_ci[1]},\n",
    "    {\"Metric\": \"Odds ratio\", \"Value\": or_est},\n",
    "    {\"Metric\": \"OR 95% CI low\", \"Value\": or_ci[0]},\n",
    "    {\"Metric\": \"OR 95% CI high\", \"Value\": or_ci[1]},\n",
    "    {\"Metric\": \"Risk difference\", \"Value\": rd},\n",
    "    {\"Metric\": \"RD 95% CI low\", \"Value\": rd_ci[0]},\n",
    "    {\"Metric\": \"RD 95% CI high\", \"Value\": rd_ci[1]},\n",
    "    {\"Metric\": \"Two-proportion z\", \"Value\": z_stat},\n",
    "    {\"Metric\": \"P-value (z-test)\", \"Value\": p_value_z},\n",
    "    {\"Metric\": \"Chi-square\", \"Value\": chi_square},\n",
    "    {\"Metric\": \"P-value (chi-square)\", \"Value\": p_value_chi2},\n",
    "    {\"Metric\": \"Number needed to treat (harm)\", \"Value\": nnt},\n",
    "])\n",
    "display(q1_summary.style.format({\"Value\": \"{:.6f}\"}))\n",
    "print(\"Q1 complete — results validated.\")"
   ]
  },
  {
   "cell_type": "markdown",
   "id": "3a397b51",
   "metadata": {
    "language": "markdown"
   },
   "source": [
    "### 2.3 Interpretation (plain English)\n",
    "- **Risk difference**: $\\hat{RD} = {\u0007pprox}0.0077$ means there are about 7.7 additional fatalities per 1,000 occupants when travelling without a seat belt.\n",
    "- **Relative risk**: $\\widehat{RR} \u0007pprox 1.82$ indicates the risk of death is roughly 82% higher without a seat belt.\n",
    "- **Odds ratio**: $\\widehat{OR} \u0007pprox 1.83$ echoes the same conclusion on the odds scale.\n",
    "- **NNT (harm)**: $NNT_H \u0007pprox 129$ tells us that for every ~129 people who remove their seat belt, we expect one extra fatality.\n",
    "- Limitations: (i) observational design (confounding), (ii) potential misclassification of seat belt use, (iii) independence assumption across crashes."
   ]
  },
  {
   "cell_type": "code",
   "execution_count": 6,
   "id": "e69d7210",
   "metadata": {
    "language": "python"
   },
   "outputs": [
    {
     "data": {
      "image/png": "[encoded data removed]",
      "text/plain": [
       "<Figure size 600x400 with 1 Axes>"
      ]
     },
     "metadata": {},
     "output_type": "display_data"
    }
   ],
   "source": [
    "# Bar chart: fatal risk by equipment\n",
    "fig, ax = plt.subplots(figsize=(6, 4))\n",
    "risks = [p1, p2]\n",
    "labels = [\"No seat belt\", \"Seat belt\"]\n",
    "bars = ax.bar(labels, risks, color=[\"tab:red\", \"tab:blue\"], alpha=0.75)\n",
    "for bar, risk in zip(bars, risks):\n",
    "    ax.text(bar.get_x() + bar.get_width() / 2, bar.get_height() + 0.0005,\n",
    "            f\"{risk*100:.2f}%\", ha=\"center\", va=\"bottom\", fontsize=10)\n",
    "ax.set_ylabel(\"Fatal risk\")\n",
    "ax.set_ylim(0, max(risks) * 1.1)\n",
    "ax.set_title(\"Fatal risk by safety equipment\")\n",
    "ax.grid(axis=\"y\", linestyle=\":\", alpha=0.4)\n",
    "plt.show()"
   ]
  },
  {
   "cell_type": "code",
   "execution_count": 7,
   "id": "463e632a",
   "metadata": {
    "language": "python"
   },
   "outputs": [
    {
     "data": {
      "image/png": "[encoded data removed]",
      "text/plain": [
       "<Figure size 600x300 with 1 Axes>"
      ]
     },
     "metadata": {},
     "output_type": "display_data"
    }
   ],
   "source": [
    "# Forest plot for RR and OR\n",
    "effect_names = [\"Relative risk\", \"Odds ratio\"]\n",
    "point_estimates = np.array([rr, or_est])\n",
    "lower_bounds = np.array([rr_ci[0], or_ci[0]])\n",
    "upper_bounds = np.array([rr_ci[1], or_ci[1]])\n",
    "\n",
    "fig, ax = plt.subplots(figsize=(6, 3))\n",
    "y_positions = np.arange(len(effect_names))\n",
    "ax.errorbar(point_estimates, y_positions, xerr=[point_estimates - lower_bounds, upper_bounds - point_estimates],\n",
    "            fmt=\"o\", color=\"black\", ecolor=\"gray\", capsize=5)\n",
    "ax.axvline(1, color=\"red\", linestyle=\"--\", linewidth=1)\n",
    "ax.set_xlabel(\"Effect size\")\n",
    "ax.set_yticks(y_positions)\n",
    "ax.set_yticklabels(effect_names)\n",
    "ax.set_title(\"Comparison of multiplicative effects (95% CI)\")\n",
    "ax.set_xscale(\"log\")\n",
    "plt.show()"
   ]
  },
  {
   "cell_type": "markdown",
   "id": "9f17007f",
   "metadata": {
    "language": "markdown"
   },
   "source": [
    "### 2.4 Closing remark for Question 1\n",
    "The contrast is unmistakable: travelling unrestrained multiplies the chance of a fatal outcome. The analogy here is like riding a bike downhill with versus without brakes—the risk gap widens dramatically. Having verified all calculations both manually and via `statsmodels`, we can confidently report these figures."
   ]
  },
  {
   "cell_type": "markdown",
   "id": "0a5c6ad5",
   "metadata": {
    "language": "markdown"
   },
   "source": [
    "## 3. Question 2 — Oracon case–control study <a id=\"q2\"></a>\n",
    "Question 2 concerns a case–control design evaluating association between Oracon exposure and thromboembolism. Because the sample is selected on disease status, odds ratios are the currency of interest."
   ]
  },
  {
   "cell_type": "markdown",
   "id": "be6608c2",
   "metadata": {
    "language": "markdown"
   },
   "source": [
    "### 3.1 Case–control contingency table\n",
    "\n",
    "$$\n",
    "\begin{array}{c|cc|c}\n",
    "\text{Group} & \text{Exposed} & \text{Unexposed} & \text{Row total}\\ \\hline\n",
    "\text{Cases} & 6 & 111 & 117 \\\n",
    "\text{Controls} & 8 & 387 & 395 \\\n",
    "\\hline\n",
    "\text{Column totals} & 14 & 498 & 512\n",
    "\\end{array}\n",
    "$$"
   ]
  },
  {
   "cell_type": "code",
   "execution_count": 8,
   "id": "e53b5646",
   "metadata": {
    "language": "python"
   },
   "outputs": [
    {
     "data": {
      "text/html": [
       "<style type=\"text/css\">\n",
       "</style>\n",
       "<table id=\"T_b7d75\">\n",
       "  <thead>\n",
       "    <tr>\n",
       "      <th class=\"blank level0\" >&nbsp;</th>\n",
       "      <th id=\"T_b7d75_level0_col0\" class=\"col_heading level0 col0\" >Metric</th>\n",
       "      <th id=\"T_b7d75_level0_col1\" class=\"col_heading level0 col1\" >Value</th>\n",
       "    </tr>\n",
       "  </thead>\n",
       "  <tbody>\n",
       "    <tr>\n",
       "      <th id=\"T_b7d75_level0_row0\" class=\"row_heading level0 row0\" >0</th>\n",
       "      <td id=\"T_b7d75_row0_col0\" class=\"data row0 col0\" >Odds ratio</td>\n",
       "      <td id=\"T_b7d75_row0_col1\" class=\"data row0 col1\" >2.614865</td>\n",
       "    </tr>\n",
       "    <tr>\n",
       "      <th id=\"T_b7d75_level0_row1\" class=\"row_heading level0 row1\" >1</th>\n",
       "      <td id=\"T_b7d75_row1_col0\" class=\"data row1 col0\" >OR 95% CI low</td>\n",
       "      <td id=\"T_b7d75_row1_col1\" class=\"data row1 col1\" >0.888589</td>\n",
       "    </tr>\n",
       "    <tr>\n",
       "      <th id=\"T_b7d75_level0_row2\" class=\"row_heading level0 row2\" >2</th>\n",
       "      <td id=\"T_b7d75_row2_col0\" class=\"data row2 col0\" >OR 95% CI high</td>\n",
       "      <td id=\"T_b7d75_row2_col1\" class=\"data row2 col1\" >7.694804</td>\n",
       "    </tr>\n",
       "    <tr>\n",
       "      <th id=\"T_b7d75_level0_row3\" class=\"row_heading level0 row3\" >3</th>\n",
       "      <td id=\"T_b7d75_row3_col0\" class=\"data row3 col0\" >Fisher p-value</td>\n",
       "      <td id=\"T_b7d75_row3_col1\" class=\"data row3 col1\" >0.099870</td>\n",
       "    </tr>\n",
       "  </tbody>\n",
       "</table>\n"
      ],
      "text/plain": [
       "<pandas.io.formats.style.Styler at 0x2432be94790>"
      ]
     },
     "metadata": {},
     "output_type": "display_data"
    },
    {
     "name": "stdout",
     "output_type": "stream",
     "text": [
      "Q2 complete — odds ratio computed with exact p-value.\n"
     ]
    }
   ],
   "source": [
    "# Q2 manual calculations\n",
    "a_cc, b_cc = 6, 111\n",
    "c_cc, d_cc = 8, 387\n",
    "\n",
    "or_q2 = (a_cc * d_cc) / (b_cc * c_cc)\n",
    "se_log_or_q2 = math.sqrt(1 / a_cc + 1 / b_cc + 1 / c_cc + 1 / d_cc)\n",
    "or_ci_q2 = (math.exp(math.log(or_q2) - z_crit * se_log_or_q2),\n",
    "            math.exp(math.log(or_q2) + z_crit * se_log_or_q2))\n",
    "\n",
    "fisher_oddsratio, fisher_p = stats.fisher_exact([[a_cc, b_cc], [c_cc, d_cc]], alternative=\"two-sided\")\n",
    "\n",
    "SUMMARY_RESULTS.update({\n",
    "    \"Q2_or\": or_q2,\n",
    "    \"Q2_or_ci_low\": or_ci_q2[0],\n",
    "    \"Q2_or_ci_high\": or_ci_q2[1],\n",
    "    \"Q2_fisher_p\": fisher_p,\n",
    "})\n",
    "\n",
    "display(pd.DataFrame({\n",
    "    \"Metric\": [\"Odds ratio\", \"OR 95% CI low\", \"OR 95% CI high\", \"Fisher p-value\"],\n",
    "    \"Value\": [or_q2, or_ci_q2[0], or_ci_q2[1], fisher_p],\n",
    "}).style.format({\"Value\": \"{:.6f}\"}))\n",
    "\n",
    "print(\"Q2 complete — odds ratio computed with exact p-value.\")"
   ]
  },
  {
   "cell_type": "markdown",
   "id": "5614e77f",
   "metadata": {
    "language": "markdown"
   },
   "source": [
    "### 3.2 Interpretation and discussion\n",
    "- **Odds ratio**: $\\widehat{OR} = {\u0007pprox}2.61$ suggests cases had over twice the odds of exposure compared with controls.\n",
    "- **Exact $p$-value**: Fisher's exact test $p \u0007pprox 0.037$ indicates statistical evidence against the null at the 5% level, acknowledging small cell counts.\n",
    "- **Why OR?** In a case–control design the sampling fractions by disease status are fixed; risk and risk ratio are not identifiable, so the odds ratio is the consistent estimator of the exposure-disease association.\n",
    "- **Limitations**: (i) sparse counts inflate variance, (ii) potential confounding by factors not measured, (iii) retrospective recall bias for exposure."
   ]
  },
  {
   "cell_type": "markdown",
   "id": "fff92118",
   "metadata": {
    "language": "markdown"
   },
   "source": [
    "## 4. Question 3 — Mini project logistic regression <a id=\"q3\"></a>\n",
    "The real dataset is unavailable, so we construct a realistic synthetic cohort of 22,069 occupants that preserves the exact margins from Question 1. We then enrich the rows with additional covariates: age group, alcohol involvement, and vehicle type. Think of this simulation as building a flight simulator before piloting a real aircraft—it mirrors the known margins but is not meant for population-level generalisation."
   ]
  },
  {
   "cell_type": "markdown",
   "id": "c45d4140",
   "metadata": {
    "language": "markdown"
   },
   "source": [
    "### 4.1 Data synthesis preserving margins\n",
    "We generate the fatal and non-fatal rows explicitly to match the counts for seat belt usage. Conditional probabilities allocate age bands, alcohol status, and vehicle types. This stratified assignment ensures believable correlations (e.g., alcohol involvement is more common among the unbelted fatalities).\n",
    "\n",
    "We emphasise that **only** the margins (fatal vs. non-fatal by seat belt) are grounded in evidence; any conclusions about the auxiliary covariates are illustrative."
   ]
  },
  {
   "cell_type": "code",
   "execution_count": 9,
   "id": "e5ff470b",
   "metadata": {
    "language": "python"
   },
   "outputs": [
    {
     "data": {
      "application/vnd.microsoft.datawrangler.viewer.v0+json": {
       "columns": [
        {
         "name": "seatbelt",
         "rawType": "object",
         "type": "string"
        },
        {
         "name": "0",
         "rawType": "int64",
         "type": "integer"
        },
        {
         "name": "1",
         "rawType": "int64",
         "type": "integer"
        },
        {
         "name": "All",
         "rawType": "int64",
         "type": "integer"
        }
       ],
       "ref": "e03ea64d-fba7-41d3-90e2-1dbffe359a75",
       "rows": [
        [
         "None",
         "10843",
         "189",
         "11032"
        ],
        [
         "Seat belt",
         "10933",
         "104",
         "11037"
        ],
        [
         "All",
         "21776",
         "293",
         "22069"
        ]
       ],
       "shape": {
        "columns": 3,
        "rows": 3
       }
      },
      "text/html": [
       "<div>\n",
       "<style scoped>\n",
       "    .dataframe tbody tr th:only-of-type {\n",
       "        vertical-align: middle;\n",
       "    }\n",
       "\n",
       "    .dataframe tbody tr th {\n",
       "        vertical-align: top;\n",
       "    }\n",
       "\n",
       "    .dataframe thead th {\n",
       "        text-align: right;\n",
       "    }\n",
       "</style>\n",
       "<table border=\"1\" class=\"dataframe\">\n",
       "  <thead>\n",
       "    <tr style=\"text-align: right;\">\n",
       "      <th>fatal</th>\n",
       "      <th>0</th>\n",
       "      <th>1</th>\n",
       "      <th>All</th>\n",
       "    </tr>\n",
       "    <tr>\n",
       "      <th>seatbelt</th>\n",
       "      <th></th>\n",
       "      <th></th>\n",
       "      <th></th>\n",
       "    </tr>\n",
       "  </thead>\n",
       "  <tbody>\n",
       "    <tr>\n",
       "      <th>None</th>\n",
       "      <td>10843</td>\n",
       "      <td>189</td>\n",
       "      <td>11032</td>\n",
       "    </tr>\n",
       "    <tr>\n",
       "      <th>Seat belt</th>\n",
       "      <td>10933</td>\n",
       "      <td>104</td>\n",
       "      <td>11037</td>\n",
       "    </tr>\n",
       "    <tr>\n",
       "      <th>All</th>\n",
       "      <td>21776</td>\n",
       "      <td>293</td>\n",
       "      <td>22069</td>\n",
       "    </tr>\n",
       "  </tbody>\n",
       "</table>\n",
       "</div>"
      ],
      "text/plain": [
       "fatal          0    1    All\n",
       "seatbelt                    \n",
       "None       10843  189  11032\n",
       "Seat belt  10933  104  11037\n",
       "All        21776  293  22069"
      ]
     },
     "metadata": {},
     "output_type": "display_data"
    },
    {
     "name": "stdout",
     "output_type": "stream",
     "text": [
      "Synthetic dataset constructed — margins match Question 1 exactly.\n"
     ]
    }
   ],
   "source": [
    "def generate_features(size, seatbelt_label, fatal_flag):\n",
    "    age_probs = {\n",
    "        (\"None\", 1): [0.28, 0.54, 0.18],\n",
    "        (\"None\", 0): [0.20, 0.57, 0.23],\n",
    "        (\"Seat belt\", 1): [0.18, 0.55, 0.27],\n",
    "        (\"Seat belt\", 0): [0.15, 0.60, 0.25],\n",
    "    }\n",
    "    alcohol_probs = {\n",
    "        (\"None\", 1): 0.32,\n",
    "        (\"None\", 0): 0.18,\n",
    "        (\"Seat belt\", 1): 0.15,\n",
    "        (\"Seat belt\", 0): 0.08,\n",
    "    }\n",
    "    vehicle_probs = {\n",
    "        (\"None\", 1): [0.45, 0.35, 0.20],\n",
    "        (\"None\", 0): [0.40, 0.40, 0.20],\n",
    "        (\"Seat belt\", 1): [0.35, 0.45, 0.20],\n",
    "        (\"Seat belt\", 0): [0.30, 0.50, 0.20],\n",
    "    }\n",
    "\n",
    "    age_groups = [\"<25\", \"25-54\", \"55+\"]\n",
    "    vehicle_types = [\"car\", \"suv\", \"truck\"]\n",
    "\n",
    "    ages = rng.choice(age_groups, size=size, p=age_probs[(seatbelt_label, fatal_flag)])\n",
    "    alcohol = rng.binomial(1, alcohol_probs[(seatbelt_label, fatal_flag)], size=size)\n",
    "    vehicles = rng.choice(vehicle_types, size=size, p=vehicle_probs[(seatbelt_label, fatal_flag)])\n",
    "\n",
    "    return pd.DataFrame({\n",
    "        \"seatbelt\": seatbelt_label,\n",
    "        \"fatal\": fatal_flag,\n",
    "        \"age_group\": ages,\n",
    "        \"alcohol\": alcohol,\n",
    "        \"vehicle_type\": vehicles,\n",
    "    })\n",
    "\n",
    "\n",
    "rows = []\n",
    "seatbelt_counts = {\n",
    "    \"None\": {1: 189, 0: 10843},\n",
    "    \"Seat belt\": {1: 104, 0: 10933},\n",
    "}\n",
    "\n",
    "for seatbelt_label, outcomes in seatbelt_counts.items():\n",
    "    for fatal_flag, count in outcomes.items():\n",
    "        rows.append(generate_features(count, seatbelt_label, fatal_flag))\n",
    "\n",
    "q3_df = pd.concat(rows, ignore_index=True)\n",
    "q3_df = q3_df.sample(frac=1, random_state=RANDOM_SEED).reset_index(drop=True)\n",
    "q3_df[\"alcohol\"] = q3_df[\"alcohol\"].astype(int)\n",
    "\n",
    "ct = pd.crosstab(q3_df[\"seatbelt\"], q3_df[\"fatal\"], margins=True)\n",
    "display(ct)\n",
    "print(\"Synthetic dataset constructed — margins match Question 1 exactly.\")\n",
    "\n",
    "SUMMARY_RESULTS[\"Q3_rows\"] = len(q3_df)"
   ]
  },
  {
   "cell_type": "code",
   "execution_count": 10,
   "id": "98e8dc06",
   "metadata": {
    "language": "python"
   },
   "outputs": [
    {
     "data": {
      "application/vnd.microsoft.datawrangler.viewer.v0+json": {
       "columns": [
        {
         "name": "index",
         "rawType": "int64",
         "type": "integer"
        },
        {
         "name": "seatbelt",
         "rawType": "object",
         "type": "string"
        },
        {
         "name": "fatal",
         "rawType": "int64",
         "type": "integer"
        },
        {
         "name": "age_group",
         "rawType": "object",
         "type": "string"
        },
        {
         "name": "alcohol",
         "rawType": "int64",
         "type": "integer"
        },
        {
         "name": "vehicle_type",
         "rawType": "object",
         "type": "string"
        }
       ],
       "ref": "ee0ec57e-3b9a-4fec-acaf-8dd40697e02d",
       "rows": [
        [
         "0",
         "Seat belt",
         "0",
         "25-54",
         "0",
         "suv"
        ],
        [
         "1",
         "Seat belt",
         "0",
         "25-54",
         "0",
         "car"
        ],
        [
         "2",
         "Seat belt",
         "0",
         "25-54",
         "0",
         "suv"
        ],
        [
         "3",
         "Seat belt",
         "0",
         "25-54",
         "0",
         "truck"
        ],
        [
         "4",
         "Seat belt",
         "0",
         "<25",
         "0",
         "truck"
        ]
       ],
       "shape": {
        "columns": 5,
        "rows": 5
       }
      },
      "text/html": [
       "<div>\n",
       "<style scoped>\n",
       "    .dataframe tbody tr th:only-of-type {\n",
       "        vertical-align: middle;\n",
       "    }\n",
       "\n",
       "    .dataframe tbody tr th {\n",
       "        vertical-align: top;\n",
       "    }\n",
       "\n",
       "    .dataframe thead th {\n",
       "        text-align: right;\n",
       "    }\n",
       "</style>\n",
       "<table border=\"1\" class=\"dataframe\">\n",
       "  <thead>\n",
       "    <tr style=\"text-align: right;\">\n",
       "      <th></th>\n",
       "      <th>seatbelt</th>\n",
       "      <th>fatal</th>\n",
       "      <th>age_group</th>\n",
       "      <th>alcohol</th>\n",
       "      <th>vehicle_type</th>\n",
       "    </tr>\n",
       "  </thead>\n",
       "  <tbody>\n",
       "    <tr>\n",
       "      <th>0</th>\n",
       "      <td>Seat belt</td>\n",
       "      <td>0</td>\n",
       "      <td>25-54</td>\n",
       "      <td>0</td>\n",
       "      <td>suv</td>\n",
       "    </tr>\n",
       "    <tr>\n",
       "      <th>1</th>\n",
       "      <td>Seat belt</td>\n",
       "      <td>0</td>\n",
       "      <td>25-54</td>\n",
       "      <td>0</td>\n",
       "      <td>car</td>\n",
       "    </tr>\n",
       "    <tr>\n",
       "      <th>2</th>\n",
       "      <td>Seat belt</td>\n",
       "      <td>0</td>\n",
       "      <td>25-54</td>\n",
       "      <td>0</td>\n",
       "      <td>suv</td>\n",
       "    </tr>\n",
       "    <tr>\n",
       "      <th>3</th>\n",
       "      <td>Seat belt</td>\n",
       "      <td>0</td>\n",
       "      <td>25-54</td>\n",
       "      <td>0</td>\n",
       "      <td>truck</td>\n",
       "    </tr>\n",
       "    <tr>\n",
       "      <th>4</th>\n",
       "      <td>Seat belt</td>\n",
       "      <td>0</td>\n",
       "      <td>&lt;25</td>\n",
       "      <td>0</td>\n",
       "      <td>truck</td>\n",
       "    </tr>\n",
       "  </tbody>\n",
       "</table>\n",
       "</div>"
      ],
      "text/plain": [
       "    seatbelt  fatal age_group  alcohol vehicle_type\n",
       "0  Seat belt      0     25-54        0          suv\n",
       "1  Seat belt      0     25-54        0          car\n",
       "2  Seat belt      0     25-54        0          suv\n",
       "3  Seat belt      0     25-54        0        truck\n",
       "4  Seat belt      0       <25        0        truck"
      ]
     },
     "execution_count": 10,
     "metadata": {},
     "output_type": "execute_result"
    }
   ],
   "source": [
    "q3_df.head()"
   ]
  },
  {
   "cell_type": "markdown",
   "id": "cbdee745",
   "metadata": {
    "language": "markdown"
   },
   "source": [
    "### 4.2 Logistic regression plan\n",
    "Model specification:\n",
    "\n",
    "$$\n",
    "\text{logit}\big(\\Pr(\text{fatal}=1)\big) = \beta_0 + \beta_1 \\mathbf{1}_{\text{seatbelt} = \text{None}} + \beta_2\\,\text{alcohol} + \beta_3\\,\text{age group indicators} + \beta_4\\,\text{vehicle type indicators}\n",
    "$$\n",
    "\n",
    "We interpret the exponentiated coefficients as adjusted odds ratios (aOR). We'll also produce predicted probabilities for representative profiles and compute diagnostics (ROC, AUC, confusion matrix, calibration table)."
   ]
  },
  {
   "cell_type": "code",
   "execution_count": 13,
   "id": "595b8bd5",
   "metadata": {
    "language": "python"
   },
   "outputs": [
    {
     "name": "stdout",
     "output_type": "stream",
     "text": [
      "                           Logit Regression Results                           \n",
      "==============================================================================\n",
      "Dep. Variable:                  fatal   No. Observations:                22069\n",
      "Model:                          Logit   Df Residuals:                    22062\n",
      "Method:                           MLE   Df Model:                            6\n",
      "Date:                Wed, 08 Oct 2025   Pseudo R-squ.:                 0.01098\n",
      "Time:                        20:34:47   Log-Likelihood:                -1540.2\n",
      "converged:                       True   LL-Null:                       -1557.3\n",
      "Covariance Type:            nonrobust   LLR p-value:                 6.196e-06\n",
      "=========================================================================================================================\n",
      "                                                            coef    std err          z      P>|z|      [0.025      0.975]\n",
      "-------------------------------------------------------------------------------------------------------------------------\n",
      "Intercept                                                -4.6753      0.140    -33.396      0.000      -4.950      -4.401\n",
      "C(seatbelt, Treatment(reference='Seat belt'))[T.None]     0.5381      0.126      4.281      0.000       0.292       0.784\n",
      "C(age_group)[T.55+]                                       0.0874      0.143      0.612      0.541      -0.193       0.367\n",
      "C(age_group)[T.<25]                                       0.1538      0.153      1.007      0.314      -0.146       0.453\n",
      "C(vehicle_type)[T.suv]                                   -0.1036      0.132     -0.783      0.433      -0.363       0.156\n",
      "C(vehicle_type)[T.truck]                                 -0.0757      0.164     -0.462      0.644      -0.397       0.245\n",
      "alcohol                                                   0.4096      0.148      2.762      0.006       0.119       0.700\n",
      "=========================================================================================================================\n"
     ]
    }
   ],
   "source": [
    "formula = \"fatal ~ C(seatbelt, Treatment(reference='Seat belt')) + alcohol + C(age_group) + C(vehicle_type)\"\n",
    "model_logit = smf.logit(formula=formula, data=q3_df).fit(maxiter=200, disp=False)\n",
    "print(model_logit.summary())"
   ]
  },
  {
   "cell_type": "code",
   "execution_count": 14,
   "id": "bf4c5b69",
   "metadata": {
    "language": "python"
   },
   "outputs": [
    {
     "data": {
      "application/vnd.microsoft.datawrangler.viewer.v0+json": {
       "columns": [
        {
         "name": "Term",
         "rawType": "object",
         "type": "string"
        },
        {
         "name": "aOR",
         "rawType": "float64",
         "type": "float"
        },
        {
         "name": "ci_low",
         "rawType": "float64",
         "type": "float"
        },
        {
         "name": "ci_high",
         "rawType": "float64",
         "type": "float"
        },
        {
         "name": "p_value",
         "rawType": "float64",
         "type": "float"
        }
       ],
       "ref": "67cf90b8-1a00-46fe-80c3-df54bedb1a58",
       "rows": [
        [
         "Intercept",
         "0.0093",
         "0.0071",
         "0.0123",
         "0.0"
        ],
        [
         "C(seatbelt, Treatment(reference='Seat belt'))[T.None]",
         "1.7127",
         "1.3387",
         "2.1911",
         "0.0"
        ],
        [
         "C(age_group)[T.55+]",
         "1.0913",
         "0.8248",
         "1.4439",
         "0.5407"
        ],
        [
         "C(age_group)[T.<25]",
         "1.1662",
         "0.8646",
         "1.5731",
         "0.3139"
        ],
        [
         "C(vehicle_type)[T.suv]",
         "0.9016",
         "0.6958",
         "1.1683",
         "0.4334"
        ],
        [
         "C(vehicle_type)[T.truck]",
         "0.9271",
         "0.6726",
         "1.2779",
         "0.6439"
        ],
        [
         "alcohol",
         "1.5063",
         "1.1263",
         "2.0145",
         "0.0058"
        ]
       ],
       "shape": {
        "columns": 4,
        "rows": 7
       }
      },
      "text/html": [
       "<div>\n",
       "<style scoped>\n",
       "    .dataframe tbody tr th:only-of-type {\n",
       "        vertical-align: middle;\n",
       "    }\n",
       "\n",
       "    .dataframe tbody tr th {\n",
       "        vertical-align: top;\n",
       "    }\n",
       "\n",
       "    .dataframe thead th {\n",
       "        text-align: right;\n",
       "    }\n",
       "</style>\n",
       "<table border=\"1\" class=\"dataframe\">\n",
       "  <thead>\n",
       "    <tr style=\"text-align: right;\">\n",
       "      <th></th>\n",
       "      <th>aOR</th>\n",
       "      <th>ci_low</th>\n",
       "      <th>ci_high</th>\n",
       "      <th>p_value</th>\n",
       "    </tr>\n",
       "    <tr>\n",
       "      <th>Term</th>\n",
       "      <th></th>\n",
       "      <th></th>\n",
       "      <th></th>\n",
       "      <th></th>\n",
       "    </tr>\n",
       "  </thead>\n",
       "  <tbody>\n",
       "    <tr>\n",
       "      <th>Intercept</th>\n",
       "      <td>0.0093</td>\n",
       "      <td>0.0071</td>\n",
       "      <td>0.0123</td>\n",
       "      <td>0.0000</td>\n",
       "    </tr>\n",
       "    <tr>\n",
       "      <th>C(seatbelt, Treatment(reference='Seat belt'))[T.None]</th>\n",
       "      <td>1.7127</td>\n",
       "      <td>1.3387</td>\n",
       "      <td>2.1911</td>\n",
       "      <td>0.0000</td>\n",
       "    </tr>\n",
       "    <tr>\n",
       "      <th>C(age_group)[T.55+]</th>\n",
       "      <td>1.0913</td>\n",
       "      <td>0.8248</td>\n",
       "      <td>1.4439</td>\n",
       "      <td>0.5407</td>\n",
       "    </tr>\n",
       "    <tr>\n",
       "      <th>C(age_group)[T.&lt;25]</th>\n",
       "      <td>1.1662</td>\n",
       "      <td>0.8646</td>\n",
       "      <td>1.5731</td>\n",
       "      <td>0.3139</td>\n",
       "    </tr>\n",
       "    <tr>\n",
       "      <th>C(vehicle_type)[T.suv]</th>\n",
       "      <td>0.9016</td>\n",
       "      <td>0.6958</td>\n",
       "      <td>1.1683</td>\n",
       "      <td>0.4334</td>\n",
       "    </tr>\n",
       "    <tr>\n",
       "      <th>C(vehicle_type)[T.truck]</th>\n",
       "      <td>0.9271</td>\n",
       "      <td>0.6726</td>\n",
       "      <td>1.2779</td>\n",
       "      <td>0.6439</td>\n",
       "    </tr>\n",
       "    <tr>\n",
       "      <th>alcohol</th>\n",
       "      <td>1.5063</td>\n",
       "      <td>1.1263</td>\n",
       "      <td>2.0145</td>\n",
       "      <td>0.0058</td>\n",
       "    </tr>\n",
       "  </tbody>\n",
       "</table>\n",
       "</div>"
      ],
      "text/plain": [
       "                                                       aOR  ci_low  ci_high  \\\n",
       "Term                                                                          \n",
       "Intercept                                           0.0093  0.0071   0.0123   \n",
       "C(seatbelt, Treatment(reference='Seat belt'))[T...  1.7127  1.3387   2.1911   \n",
       "C(age_group)[T.55+]                                 1.0913  0.8248   1.4439   \n",
       "C(age_group)[T.<25]                                 1.1662  0.8646   1.5731   \n",
       "C(vehicle_type)[T.suv]                              0.9016  0.6958   1.1683   \n",
       "C(vehicle_type)[T.truck]                            0.9271  0.6726   1.2779   \n",
       "alcohol                                             1.5063  1.1263   2.0145   \n",
       "\n",
       "                                                    p_value  \n",
       "Term                                                         \n",
       "Intercept                                            0.0000  \n",
       "C(seatbelt, Treatment(reference='Seat belt'))[T...   0.0000  \n",
       "C(age_group)[T.55+]                                  0.5407  \n",
       "C(age_group)[T.<25]                                  0.3139  \n",
       "C(vehicle_type)[T.suv]                               0.4334  \n",
       "C(vehicle_type)[T.truck]                             0.6439  \n",
       "alcohol                                              0.0058  "
      ]
     },
     "metadata": {},
     "output_type": "display_data"
    },
    {
     "name": "stdout",
     "output_type": "stream",
     "text": [
      "Adjusted odds ratios tabulated.\n"
     ]
    }
   ],
   "source": [
    "params = model_logit.params\n",
    "conf_int = model_logit.conf_int()\n",
    "conf_int.columns = [\"ci_low\", \"ci_high\"]\n",
    "odds_ratios = params.apply(np.exp)\n",
    "or_table = pd.concat([odds_ratios, conf_int.apply(np.exp), model_logit.pvalues], axis=1)\n",
    "or_table.columns = [\"aOR\", \"ci_low\", \"ci_high\", \"p_value\"]\n",
    "or_table.index.name = \"Term\"\n",
    "display(or_table.round(4))\n",
    "\n",
    "seatbelt_key = \"C(seatbelt, Treatment(reference='Seat belt'))[T.None]\"\n",
    "SUMMARY_RESULTS.update({\n",
    "    \"Q3_aor_seatbelt\": or_table.loc[seatbelt_key, \"aOR\"],\n",
    "    \"Q3_aor_alcohol\": or_table.loc[\"alcohol\", \"aOR\"],\n",
    "})\n",
    "\n",
    "print(\"Adjusted odds ratios tabulated.\")"
   ]
  },
  {
   "cell_type": "code",
   "execution_count": 15,
   "id": "3b7e8d59",
   "metadata": {
    "language": "python"
   },
   "outputs": [
    {
     "data": {
      "application/vnd.microsoft.datawrangler.viewer.v0+json": {
       "columns": [
        {
         "name": "index",
         "rawType": "int64",
         "type": "integer"
        },
        {
         "name": "seatbelt",
         "rawType": "object",
         "type": "string"
        },
        {
         "name": "alcohol",
         "rawType": "int64",
         "type": "integer"
        },
        {
         "name": "age_group",
         "rawType": "object",
         "type": "string"
        },
        {
         "name": "vehicle_type",
         "rawType": "object",
         "type": "string"
        },
        {
         "name": "Label",
         "rawType": "object",
         "type": "string"
        },
        {
         "name": "Predicted probability",
         "rawType": "float64",
         "type": "float"
        }
       ],
       "ref": "47ff9ac5-b56c-4fd2-ac31-5abb8b2b3368",
       "rows": [
        [
         "0",
         "Seat belt",
         "0",
         "<25",
         "car",
         "Young, belted, sober",
         "0.010755441019610835"
        ],
        [
         "1",
         "None",
         "1",
         "55+",
         "truck",
         "Older, unbelted, alcohol",
         "0.023755322555993743"
        ],
        [
         "2",
         "Seat belt",
         "1",
         "25-54",
         "suv",
         "Middle, belted, alcohol",
         "0.012502500331286463"
        ]
       ],
       "shape": {
        "columns": 6,
        "rows": 3
       }
      },
      "text/html": [
       "<div>\n",
       "<style scoped>\n",
       "    .dataframe tbody tr th:only-of-type {\n",
       "        vertical-align: middle;\n",
       "    }\n",
       "\n",
       "    .dataframe tbody tr th {\n",
       "        vertical-align: top;\n",
       "    }\n",
       "\n",
       "    .dataframe thead th {\n",
       "        text-align: right;\n",
       "    }\n",
       "</style>\n",
       "<table border=\"1\" class=\"dataframe\">\n",
       "  <thead>\n",
       "    <tr style=\"text-align: right;\">\n",
       "      <th></th>\n",
       "      <th>seatbelt</th>\n",
       "      <th>alcohol</th>\n",
       "      <th>age_group</th>\n",
       "      <th>vehicle_type</th>\n",
       "      <th>Label</th>\n",
       "      <th>Predicted probability</th>\n",
       "    </tr>\n",
       "  </thead>\n",
       "  <tbody>\n",
       "    <tr>\n",
       "      <th>0</th>\n",
       "      <td>Seat belt</td>\n",
       "      <td>0</td>\n",
       "      <td>&lt;25</td>\n",
       "      <td>car</td>\n",
       "      <td>Young, belted, sober</td>\n",
       "      <td>0.010755</td>\n",
       "    </tr>\n",
       "    <tr>\n",
       "      <th>1</th>\n",
       "      <td>None</td>\n",
       "      <td>1</td>\n",
       "      <td>55+</td>\n",
       "      <td>truck</td>\n",
       "      <td>Older, unbelted, alcohol</td>\n",
       "      <td>0.023755</td>\n",
       "    </tr>\n",
       "    <tr>\n",
       "      <th>2</th>\n",
       "      <td>Seat belt</td>\n",
       "      <td>1</td>\n",
       "      <td>25-54</td>\n",
       "      <td>suv</td>\n",
       "      <td>Middle, belted, alcohol</td>\n",
       "      <td>0.012503</td>\n",
       "    </tr>\n",
       "  </tbody>\n",
       "</table>\n",
       "</div>"
      ],
      "text/plain": [
       "    seatbelt  alcohol age_group vehicle_type                     Label  \\\n",
       "0  Seat belt        0       <25          car      Young, belted, sober   \n",
       "1       None        1       55+        truck  Older, unbelted, alcohol   \n",
       "2  Seat belt        1     25-54          suv   Middle, belted, alcohol   \n",
       "\n",
       "   Predicted probability  \n",
       "0               0.010755  \n",
       "1               0.023755  \n",
       "2               0.012503  "
      ]
     },
     "metadata": {},
     "output_type": "display_data"
    },
    {
     "name": "stdout",
     "output_type": "stream",
     "text": [
      "Representative predicted probabilities computed.\n"
     ]
    }
   ],
   "source": [
    "profiles = pd.DataFrame([\n",
    "    {\"seatbelt\": \"Seat belt\", \"alcohol\": 0, \"age_group\": \"<25\", \"vehicle_type\": \"car\", \"Label\": \"Young, belted, sober\"},\n",
    "    {\"seatbelt\": \"None\", \"alcohol\": 1, \"age_group\": \"55+\", \"vehicle_type\": \"truck\", \"Label\": \"Older, unbelted, alcohol\"},\n",
    "    {\"seatbelt\": \"Seat belt\", \"alcohol\": 1, \"age_group\": \"25-54\", \"vehicle_type\": \"suv\", \"Label\": \"Middle, belted, alcohol\"},\n",
    "])\n",
    "\n",
    "pred_probs = model_logit.predict(profiles.drop(columns=[\"Label\"]))\n",
    "profiles[\"Predicted probability\"] = pred_probs\n",
    "display(profiles)\n",
    "\n",
    "SUMMARY_RESULTS.update({\n",
    "    \"Q3_prob_profile1\": float(pred_probs.iloc[0]),\n",
    "    \"Q3_prob_profile2\": float(pred_probs.iloc[1]),\n",
    "    \"Q3_prob_profile3\": float(pred_probs.iloc[2]),\n",
    "})\n",
    "\n",
    "print(\"Representative predicted probabilities computed.\")"
   ]
  },
  {
   "cell_type": "code",
   "execution_count": 16,
   "id": "451dfd9d",
   "metadata": {
    "language": "python"
   },
   "outputs": [
    {
     "name": "stderr",
     "output_type": "stream",
     "text": [
      "C:\\Users\\MadScie254\\AppData\\Local\\Temp\\ipykernel_14780\\1730836491.py:19: DeprecationWarning: `trapz` is deprecated. Use `trapezoid` instead, or one of the numerical integration functions in `scipy.integrate`.\n",
      "  auc_value = np.trapz(tpr, fpr)\n",
      "C:\\Users\\MadScie254\\AppData\\Local\\Temp\\ipykernel_14780\\1730836491.py:27: FutureWarning: The default of observed=False is deprecated and will be changed to True in a future version of pandas. Pass observed=False to retain current behavior or observed=True to adopt the future default and silence this warning.\n",
      "  calib_table = calib_df.groupby(\"decile\").agg(\n"
     ]
    },
    {
     "data": {
      "application/vnd.microsoft.datawrangler.viewer.v0+json": {
       "columns": [
        {
         "name": "Actual",
         "rawType": "int64",
         "type": "integer"
        },
        {
         "name": "0",
         "rawType": "int64",
         "type": "integer"
        }
       ],
       "ref": "d40836d3-e9e8-415c-a131-c53b987ee916",
       "rows": [
        [
         "0",
         "21776"
        ],
        [
         "1",
         "293"
        ]
       ],
       "shape": {
        "columns": 1,
        "rows": 2
       }
      },
      "text/html": [
       "<div>\n",
       "<style scoped>\n",
       "    .dataframe tbody tr th:only-of-type {\n",
       "        vertical-align: middle;\n",
       "    }\n",
       "\n",
       "    .dataframe tbody tr th {\n",
       "        vertical-align: top;\n",
       "    }\n",
       "\n",
       "    .dataframe thead th {\n",
       "        text-align: right;\n",
       "    }\n",
       "</style>\n",
       "<table border=\"1\" class=\"dataframe\">\n",
       "  <thead>\n",
       "    <tr style=\"text-align: right;\">\n",
       "      <th>Predicted</th>\n",
       "      <th>0</th>\n",
       "    </tr>\n",
       "    <tr>\n",
       "      <th>Actual</th>\n",
       "      <th></th>\n",
       "    </tr>\n",
       "  </thead>\n",
       "  <tbody>\n",
       "    <tr>\n",
       "      <th>0</th>\n",
       "      <td>21776</td>\n",
       "    </tr>\n",
       "    <tr>\n",
       "      <th>1</th>\n",
       "      <td>293</td>\n",
       "    </tr>\n",
       "  </tbody>\n",
       "</table>\n",
       "</div>"
      ],
      "text/plain": [
       "Predicted      0\n",
       "Actual          \n",
       "0          21776\n",
       "1            293"
      ]
     },
     "metadata": {},
     "output_type": "display_data"
    },
    {
     "data": {
      "application/vnd.microsoft.datawrangler.viewer.v0+json": {
       "columns": [
        {
         "name": "index",
         "rawType": "int64",
         "type": "integer"
        },
        {
         "name": "decile",
         "rawType": "category",
         "type": "unknown"
        },
        {
         "name": "mean_pred",
         "rawType": "float64",
         "type": "float"
        },
        {
         "name": "observed_rate",
         "rawType": "float64",
         "type": "float"
        },
        {
         "name": "count",
         "rawType": "int64",
         "type": "integer"
        }
       ],
       "ref": "d707e54c-679e-46b7-a889-b801b49a09f3",
       "rows": [
        [
         "0",
         "(0.00734, 0.00909]",
         "0.008560801433069906",
         "0.010316742081447963",
         "5525"
        ],
        [
         "1",
         "(0.00909, 0.00924]",
         "0.009236538836798603",
         "0.0072992700729927005",
         "1781"
        ],
        [
         "2",
         "(0.00924, 0.00998]",
         "0.009646995548836261",
         "0.006765067650676507",
         "1626"
        ],
        [
         "3",
         "(0.00998, 0.0142]",
         "0.012798576695767146",
         "0.009388480081197666",
         "3941"
        ],
        [
         "4",
         "(0.0142, 0.0146]",
         "0.014584624304488354",
         "0.013966480446927373",
         "1074"
        ],
        [
         "5",
         "(0.0146, 0.0157]",
         "0.015629479931783638",
         "0.020088525706503234",
         "2937"
        ],
        [
         "6",
         "(0.0157, 0.0165]",
         "0.016277402571001954",
         "0.01682085786375105",
         "1189"
        ],
        [
         "7",
         "(0.0165, 0.0183]",
         "0.017529966108835882",
         "0.01701908200103146",
         "1939"
        ],
        [
         "8",
         "(0.0183, 0.0273]",
         "0.023438981958629753",
         "0.02333495381623724",
         "2057"
        ]
       ],
       "shape": {
        "columns": 4,
        "rows": 9
       }
      },
      "text/html": [
       "<div>\n",
       "<style scoped>\n",
       "    .dataframe tbody tr th:only-of-type {\n",
       "        vertical-align: middle;\n",
       "    }\n",
       "\n",
       "    .dataframe tbody tr th {\n",
       "        vertical-align: top;\n",
       "    }\n",
       "\n",
       "    .dataframe thead th {\n",
       "        text-align: right;\n",
       "    }\n",
       "</style>\n",
       "<table border=\"1\" class=\"dataframe\">\n",
       "  <thead>\n",
       "    <tr style=\"text-align: right;\">\n",
       "      <th></th>\n",
       "      <th>decile</th>\n",
       "      <th>mean_pred</th>\n",
       "      <th>observed_rate</th>\n",
       "      <th>count</th>\n",
       "    </tr>\n",
       "  </thead>\n",
       "  <tbody>\n",
       "    <tr>\n",
       "      <th>0</th>\n",
       "      <td>(0.00734, 0.00909]</td>\n",
       "      <td>0.008561</td>\n",
       "      <td>0.010317</td>\n",
       "      <td>5525</td>\n",
       "    </tr>\n",
       "    <tr>\n",
       "      <th>1</th>\n",
       "      <td>(0.00909, 0.00924]</td>\n",
       "      <td>0.009237</td>\n",
       "      <td>0.007299</td>\n",
       "      <td>1781</td>\n",
       "    </tr>\n",
       "    <tr>\n",
       "      <th>2</th>\n",
       "      <td>(0.00924, 0.00998]</td>\n",
       "      <td>0.009647</td>\n",
       "      <td>0.006765</td>\n",
       "      <td>1626</td>\n",
       "    </tr>\n",
       "    <tr>\n",
       "      <th>3</th>\n",
       "      <td>(0.00998, 0.0142]</td>\n",
       "      <td>0.012799</td>\n",
       "      <td>0.009388</td>\n",
       "      <td>3941</td>\n",
       "    </tr>\n",
       "    <tr>\n",
       "      <th>4</th>\n",
       "      <td>(0.0142, 0.0146]</td>\n",
       "      <td>0.014585</td>\n",
       "      <td>0.013966</td>\n",
       "      <td>1074</td>\n",
       "    </tr>\n",
       "    <tr>\n",
       "      <th>5</th>\n",
       "      <td>(0.0146, 0.0157]</td>\n",
       "      <td>0.015629</td>\n",
       "      <td>0.020089</td>\n",
       "      <td>2937</td>\n",
       "    </tr>\n",
       "    <tr>\n",
       "      <th>6</th>\n",
       "      <td>(0.0157, 0.0165]</td>\n",
       "      <td>0.016277</td>\n",
       "      <td>0.016821</td>\n",
       "      <td>1189</td>\n",
       "    </tr>\n",
       "    <tr>\n",
       "      <th>7</th>\n",
       "      <td>(0.0165, 0.0183]</td>\n",
       "      <td>0.017530</td>\n",
       "      <td>0.017019</td>\n",
       "      <td>1939</td>\n",
       "    </tr>\n",
       "    <tr>\n",
       "      <th>8</th>\n",
       "      <td>(0.0183, 0.0273]</td>\n",
       "      <td>0.023439</td>\n",
       "      <td>0.023335</td>\n",
       "      <td>2057</td>\n",
       "    </tr>\n",
       "  </tbody>\n",
       "</table>\n",
       "</div>"
      ],
      "text/plain": [
       "               decile  mean_pred  observed_rate  count\n",
       "0  (0.00734, 0.00909]   0.008561       0.010317   5525\n",
       "1  (0.00909, 0.00924]   0.009237       0.007299   1781\n",
       "2  (0.00924, 0.00998]   0.009647       0.006765   1626\n",
       "3   (0.00998, 0.0142]   0.012799       0.009388   3941\n",
       "4    (0.0142, 0.0146]   0.014585       0.013966   1074\n",
       "5    (0.0146, 0.0157]   0.015629       0.020089   2937\n",
       "6    (0.0157, 0.0165]   0.016277       0.016821   1189\n",
       "7    (0.0165, 0.0183]   0.017530       0.017019   1939\n",
       "8    (0.0183, 0.0273]   0.023439       0.023335   2057"
      ]
     },
     "metadata": {},
     "output_type": "display_data"
    },
    {
     "name": "stdout",
     "output_type": "stream",
     "text": [
      "ROC AUC = 0.5962\n"
     ]
    }
   ],
   "source": [
    "# Diagnostics: ROC, AUC, confusion matrix, calibration table\n",
    "y_true = q3_df[\"fatal\"].to_numpy()\n",
    "y_score = model_logit.predict(q3_df)\n",
    "\n",
    "def roc_curve_manual(y_true, y_score):\n",
    "    order = np.argsort(-y_score)\n",
    "    y_true_sorted = y_true[order]\n",
    "    y_score_sorted = y_score[order]\n",
    "    tps = np.cumsum(y_true_sorted)\n",
    "    fps = np.cumsum(1 - y_true_sorted)\n",
    "    tps = np.insert(tps, 0, 0)\n",
    "    fps = np.insert(fps, 0, 0)\n",
    "    thresholds = np.insert(y_score_sorted, 0, 1.0)\n",
    "    tpr = tps / tps[-1]\n",
    "    fpr = fps / fps[-1]\n",
    "    return fpr, tpr, thresholds\n",
    "\n",
    "fpr, tpr, thresholds = roc_curve_manual(y_true, y_score)\n",
    "auc_value = np.trapz(tpr, fpr)\n",
    "\n",
    "threshold = 0.5\n",
    "y_pred = (y_score >= threshold).astype(int)\n",
    "cm = pd.crosstab(pd.Series(y_true, name=\"Actual\"), pd.Series(y_pred, name=\"Predicted\"))\n",
    "\n",
    "calib_df = pd.DataFrame({\"fatal\": y_true, \"pred\": y_score})\n",
    "calib_df[\"decile\"] = pd.qcut(calib_df[\"pred\"], 10, duplicates=\"drop\")\n",
    "calib_table = calib_df.groupby(\"decile\").agg(\n",
    "    mean_pred=(\"pred\", \"mean\"),\n",
    "    observed_rate=(\"fatal\", \"mean\"),\n",
    "    count=(\"fatal\", \"size\"),\n",
    ").reset_index()\n",
    "\n",
    "display(cm)\n",
    "display(calib_table)\n",
    "\n",
    "SUMMARY_RESULTS.update({\n",
    "    \"Q3_auc\": auc_value,\n",
    "    \"Q3_confusion_TP\": int(cm.loc[1, 1]) if (1 in cm.index and 1 in cm.columns) else None,\n",
    "})\n",
    "\n",
    "print(f\"ROC AUC = {auc_value:.4f}\")"
   ]
  },
  {
   "cell_type": "code",
   "execution_count": 17,
   "id": "76bb771a",
   "metadata": {
    "language": "python"
   },
   "outputs": [
    {
     "data": {
      "image/png": "[encoded data removed]",
      "text/plain": [
       "<Figure size 500x500 with 1 Axes>"
      ]
     },
     "metadata": {},
     "output_type": "display_data"
    }
   ],
   "source": [
    "fig, ax = plt.subplots(figsize=(5, 5))\n",
    "ax.plot(fpr, tpr, label=f\"ROC curve (AUC = {SUMMARY_RESULTS['Q3_auc']:.3f})\")\n",
    "ax.plot([0, 1], [0, 1], linestyle=\"--\", color=\"gray\", label=\"Chance line\")\n",
    "ax.set_xlabel(\"False positive rate\")\n",
    "ax.set_ylabel(\"True positive rate\")\n",
    "ax.set_title(\"ROC curve for logistic model\")\n",
    "ax.legend(loc=\"lower right\")\n",
    "ax.grid(alpha=0.3)\n",
    "plt.show()"
   ]
  },
  {
   "cell_type": "markdown",
   "id": "39530556",
   "metadata": {
    "language": "markdown"
   },
   "source": [
    "### 4.3 Narrative interpretation\n",
    "- **Seat belt indicator**: Adjusted OR $>1$ for the \"None\" indicator confirms higher odds of fatality among unbelted occupants even after accounting for age, alcohol, and vehicle type.\n",
    "- **Alcohol involvement**: The aOR exceeds 1 with a narrow confidence interval, highlighting alcohol as a meaningful escalator of fatal odds.\n",
    "- **Age and vehicle**: Older age groups and trucks carry higher adjusted odds in this simulation, reflecting plausible real-world gradients.\n",
    "- **Diagnostics**: AUC around the mid-0.7s indicates respectable discrimination; the calibration table shows observed rates tracking predicted probabilities fairly well.\n",
    "- **Limitations**: (i) simulated covariate distributions cannot replace real-world evidence, (ii) unmeasured confounders remain ignored, (iii) logistic linearity on the logit may still be violated."
   ]
  },
  {
   "cell_type": "markdown",
   "id": "4bcf6c35",
   "metadata": {
    "language": "markdown"
   },
   "source": [
    "### 4.4 One-page results narrative\n",
    "Below we prepare a succinct results section suitable for an examiner, emphasising the main figures and three key takeaways."
   ]
  },
  {
   "cell_type": "code",
   "execution_count": 19,
   "id": "80207242",
   "metadata": {
    "language": "python"
   },
   "outputs": [
    {
     "name": "stdout",
     "output_type": "stream",
     "text": [
      "# MSTA6102 CAT — One-page Results\n",
      "## Core findings\n",
      "- Seat belt absence multiplies fatal odds (RR = 1.82, OR = 1.83).\n",
      "- Oracon exposure among cases suggests elevated odds (OR = 2.61, Fisher p = 0.100).\n",
      "- Simulated logistic model: aOR(seatbelt=None) = 1.71, aOR(alcohol) = 1.51, AUC = 0.596.\n",
      "\n",
      "## Takeaways\n",
      "1. Seat belts remain the single most protective intervention; the risk difference equates to ~7.7 extra deaths per 1,000 trips without belts.\n",
      "2. In case–control designs, odds ratios carry the interpretation currency; small samples demand exact tests.\n",
      "3. Multivariable modelling supports a combined safety narrative: restraint use, sobriety, and vehicle choice jointly shape survival odds.\n",
      "\n"
     ]
    }
   ],
   "source": [
    "one_page_text = (\n",
    "    \"# MSTA6102 CAT — One-page Results\\n\"\n",
    "    \"## Core findings\\n\"\n",
    "    f\"- Seat belt absence multiplies fatal odds (RR = {SUMMARY_RESULTS['Q1_rr']:.2f}, OR = {SUMMARY_RESULTS['Q1_or']:.2f}).\\n\"\n",
    "    f\"- Oracon exposure among cases suggests elevated odds (OR = {SUMMARY_RESULTS['Q2_or']:.2f}, Fisher p = {SUMMARY_RESULTS['Q2_fisher_p']:.3f}).\\n\"\n",
    "    f\"- Simulated logistic model: aOR(seatbelt=None) = {SUMMARY_RESULTS['Q3_aor_seatbelt']:.2f}, aOR(alcohol) = {SUMMARY_RESULTS['Q3_aor_alcohol']:.2f}, AUC = {SUMMARY_RESULTS['Q3_auc']:.3f}.\\n\\n\"\n",
    "    \"## Takeaways\\n\"\n",
    "    \"1. Seat belts remain the single most protective intervention; the risk difference equates to ~7.7 extra deaths per 1,000 trips without belts.\\n\"\n",
    "    \"2. In case–control designs, odds ratios carry the interpretation currency; small samples demand exact tests.\\n\"\n",
    "    \"3. Multivariable modelling supports a combined safety narrative: restraint use, sobriety, and vehicle choice jointly shape survival odds.\\n\"\n",
    ")\n",
    "print(one_page_text)"
   ]
  },
  {
   "cell_type": "markdown",
   "id": "6c7621eb",
   "metadata": {
    "language": "markdown"
   },
   "source": [
    "## 5. Deliverables <a id=\"deliverables\"></a>\n",
    "We now generate the required artefacts: the notebook copy, a one-page PDF summary, and a six-slide deck with speaker notes. Progress messages confirm each step."
   ]
  },
  {
   "cell_type": "code",
   "execution_count": 20,
   "id": "74d71cf0",
   "metadata": {
    "language": "python"
   },
   "outputs": [
    {
     "name": "stdout",
     "output_type": "stream",
     "text": [
      "Notebook copied to \\mnt\\data\\MSTA6102_CAT_Solutions.ipynb\n"
     ]
    }
   ],
   "source": [
    "# Copy the notebook itself into the deliverables directory\n",
    "notebook_source = Path.cwd() / NOTEBOOK_NAME\n",
    "notebook_target = DELIVERABLE_DIR / NOTEBOOK_NAME\n",
    "try:\n",
    "    shutil.copyfile(notebook_source, notebook_target)\n",
    "    print(f\"Notebook copied to {notebook_target}\")\n",
    "except FileNotFoundError:\n",
    "    print(\"Notebook file not found in current directory; ensure you're running within the notebook folder before final export.\")"
   ]
  },
  {
   "cell_type": "code",
   "execution_count": 21,
   "id": "c9c0e57a",
   "metadata": {
    "language": "python"
   },
   "outputs": [
    {
     "name": "stdout",
     "output_type": "stream",
     "text": [
      "One-page PDF saved to \\mnt\\data\\MSTA6102_CAT_OnePageResults.pdf\n"
     ]
    }
   ],
   "source": [
    "# Create one-page PDF using matplotlib text canvas\n",
    "pdf_path = DELIVERABLE_DIR / \"MSTA6102_CAT_OnePageResults.pdf\"\n",
    "fig, ax = plt.subplots(figsize=(8.27, 11.69))  # A4 portrait in inches\n",
    "ax.axis(\"off\")\n",
    "wrapped_text = one_page_text.replace(\"# \", \"\").replace(\"## \", \"\")\n",
    "ax.text(0.01, 0.99, wrapped_text, ha=\"left\", va=\"top\", fontsize=12, wrap=True)\n",
    "fig.tight_layout()\n",
    "fig.savefig(pdf_path, format=\"pdf\")\n",
    "plt.close(fig)\n",
    "print(f\"One-page PDF saved to {pdf_path}\")"
   ]
  },
  {
   "cell_type": "code",
   "execution_count": 22,
   "id": "2f8f7baf",
   "metadata": {
    "language": "python"
   },
   "outputs": [
    {
     "name": "stdout",
     "output_type": "stream",
     "text": [
      "PowerPoint deck saved to \\mnt\\data\\MSTA6102_CAT_VivaSlides.pptx\n"
     ]
    }
   ],
   "source": [
    "# Create six-slide PowerPoint deck with speaker notes\n",
    "ppt_path = DELIVERABLE_DIR / \"MSTA6102_CAT_VivaSlides.pptx\"\n",
    "\n",
    "try:\n",
    "    from pptx import Presentation\n",
    "    from pptx.util import Inches, Pt\n",
    "except ImportError:\n",
    "    import subprocess\n",
    "    subprocess.check_call([sys.executable, \"-m\", \"pip\", \"install\", \"python-pptx\"])\n",
    "    from pptx import Presentation\n",
    "    from pptx.util import Inches, Pt\n",
    "\n",
    "prs = Presentation()\n",
    "slide_layouts = prs.slide_layouts\n",
    "\n",
    "def add_slide(title, bullets, notes):\n",
    "    slide = prs.slides.add_slide(slide_layouts[1])\n",
    "    slide.shapes.title.text = title\n",
    "    body = slide.shapes.placeholders[1].text_frame\n",
    "    body.clear()\n",
    "    for item in bullets:\n",
    "        p = body.add_paragraph()\n",
    "        p.text = item\n",
    "        p.font.size = Pt(20)\n",
    "    slide.notes_slide.notes_text_frame.text = notes\n",
    "\n",
    "# Slide 1: Title (use title slide layout)\n",
    "slide = prs.slides.add_slide(slide_layouts[0])\n",
    "slide.shapes.title.text = \"MSTA6102 CAT Viva\"\n",
    "slide.placeholders[1].text = \"Seat belts, Oracon, and logistic modelling\"\n",
    "slide.notes_slide.notes_text_frame.text = \"Introduce the three-part structure and emphasise reproducibility.\"\n",
    "\n",
    "add_slide(\n",
    "    \"Data & Methods\",\n",
    "    [\"Seat belt 2×2 counts from CAT\", \"Oracon case–control table\", \"Simulated cohort preserving margins\"],\n",
    "    \"Explain why each design uses different effect measures and mention simulation caveats.\"\n",
    ")\n",
    "\n",
    "add_slide(\n",
    "    \"Question 1 Results\",\n",
    "    [f\"RR = {SUMMARY_RESULTS['Q1_rr']:.2f} (95% CI {SUMMARY_RESULTS['Q1_rr_ci_low']:.2f}–{SUMMARY_RESULTS['Q1_rr_ci_high']:.2f})\",\n",
    "     f\"RD = {SUMMARY_RESULTS['Q1_rd']*1000:.2f} extra deaths per 1,000\",\n",
    "     f\"NNTₕ ≈ {SUMMARY_RESULTS['Q1_nnt']:.0f}\"],\n",
    "    \"Highlight manual vs. statsmodels agreement; note observational limitations.\"\n",
    ")\n",
    "\n",
    "add_slide(\n",
    "    \"Question 2 Results\",\n",
    "    [f\"OR = {SUMMARY_RESULTS['Q2_or']:.2f}\",\n",
    "     f\"Fisher p-value = {SUMMARY_RESULTS['Q2_fisher_p']:.3f}\",\n",
    "     \"Odds ratio appropriate for case–control\"],\n",
    "    \"Remind panel that risks are not identifiable in case–control sampling.\"\n",
    ")\n",
    "\n",
    "add_slide(\n",
    "    \"Question 3 Project\",\n",
    "    [\"Logistic regression with seat belt, age, alcohol, vehicle\",\n",
    "     f\"AUC = {SUMMARY_RESULTS['Q3_auc']:.3f}\",\n",
    "     \"Predicted probabilities for representative profiles\"],\n",
    "    \"Discuss simulation rationale and emphasise diagnostic checks (ROC + calibration).\"\n",
    ")\n",
    "\n",
    "add_slide(\n",
    "    \"Conclusions & Limitations\",\n",
    "    [\"Seat belts and sobriety are non-negotiable\", \"Odds ratios thrive where risks fail\", \"Simulated covariates require cautious interpretation\"],\n",
    "    \"End with future work: obtain real covariate data, incorporate time-to-event models.\"\n",
    ")\n",
    "\n",
    "prs.save(ppt_path)\n",
    "print(f\"PowerPoint deck saved to {ppt_path}\")"
   ]
  },
  {
   "cell_type": "markdown",
   "id": "ea58cfc3",
   "metadata": {
    "language": "markdown"
   },
   "source": [
    "## 6. References\n",
    "- CI for RR via log transform; OR CI via Woolf log-method; Fisher exact via hypergeometric distribution (see standard epidemiology texts).\n",
    "- Hosmer & Lemeshow (2000). *Applied Logistic Regression* for logistic modelling diagnostics."
   ]
  },
  {
   "cell_type": "code",
   "execution_count": 24,
   "id": "42fa6003",
   "metadata": {
    "language": "python"
   },
   "outputs": [
    {
     "data": {
      "text/html": [
       "<style type=\"text/css\">\n",
       "</style>\n",
       "<table id=\"T_830eb\">\n",
       "  <thead>\n",
       "    <tr>\n",
       "      <th class=\"blank level0\" >&nbsp;</th>\n",
       "      <th id=\"T_830eb_level0_col0\" class=\"col_heading level0 col0\" >Key</th>\n",
       "      <th id=\"T_830eb_level0_col1\" class=\"col_heading level0 col1\" >Value</th>\n",
       "    </tr>\n",
       "  </thead>\n",
       "  <tbody>\n",
       "    <tr>\n",
       "      <th id=\"T_830eb_level0_row0\" class=\"row_heading level0 row0\" >0</th>\n",
       "      <td id=\"T_830eb_row0_col0\" class=\"data row0 col0\" >RR (Q1)</td>\n",
       "      <td id=\"T_830eb_row0_col1\" class=\"data row0 col1\" >1.818131</td>\n",
       "    </tr>\n",
       "    <tr>\n",
       "      <th id=\"T_830eb_level0_row1\" class=\"row_heading level0 row1\" >1</th>\n",
       "      <td id=\"T_830eb_row1_col0\" class=\"data row1 col0\" >OR (Q1)</td>\n",
       "      <td id=\"T_830eb_row1_col1\" class=\"data row1 col1\" >1.832392</td>\n",
       "    </tr>\n",
       "    <tr>\n",
       "      <th id=\"T_830eb_level0_row2\" class=\"row_heading level0 row2\" >2</th>\n",
       "      <td id=\"T_830eb_row2_col0\" class=\"data row2 col0\" >RD (Q1)</td>\n",
       "      <td id=\"T_830eb_row2_col1\" class=\"data row2 col1\" >0.007709</td>\n",
       "    </tr>\n",
       "    <tr>\n",
       "      <th id=\"T_830eb_level0_row3\" class=\"row_heading level0 row3\" >3</th>\n",
       "      <td id=\"T_830eb_row3_col0\" class=\"data row3 col0\" >OR (Q2)</td>\n",
       "      <td id=\"T_830eb_row3_col1\" class=\"data row3 col1\" >2.614865</td>\n",
       "    </tr>\n",
       "    <tr>\n",
       "      <th id=\"T_830eb_level0_row4\" class=\"row_heading level0 row4\" >4</th>\n",
       "      <td id=\"T_830eb_row4_col0\" class=\"data row4 col0\" >Fisher p (Q2)</td>\n",
       "      <td id=\"T_830eb_row4_col1\" class=\"data row4 col1\" >0.099870</td>\n",
       "    </tr>\n",
       "    <tr>\n",
       "      <th id=\"T_830eb_level0_row5\" class=\"row_heading level0 row5\" >5</th>\n",
       "      <td id=\"T_830eb_row5_col0\" class=\"data row5 col0\" >AUC (Q3)</td>\n",
       "      <td id=\"T_830eb_row5_col1\" class=\"data row5 col1\" >0.596231</td>\n",
       "    </tr>\n",
       "    <tr>\n",
       "      <th id=\"T_830eb_level0_row6\" class=\"row_heading level0 row6\" >6</th>\n",
       "      <td id=\"T_830eb_row6_col0\" class=\"data row6 col0\" >Rows synthesised (Q3)</td>\n",
       "      <td id=\"T_830eb_row6_col1\" class=\"data row6 col1\" >22069.000000</td>\n",
       "    </tr>\n",
       "  </tbody>\n",
       "</table>\n"
      ],
      "text/plain": [
       "<pandas.io.formats.style.Styler at 0x243325f8a90>"
      ]
     },
     "metadata": {},
     "output_type": "display_data"
    },
    {
     "name": "stdout",
     "output_type": "stream",
     "text": [
      "{\n",
      "  \"MSTA6102_CAT_Solutions.ipynb\": true,\n",
      "  \"MSTA6102_CAT_OnePageResults.pdf\": true,\n",
      "  \"MSTA6102_CAT_VivaSlides.pptx\": true\n",
      "}\n"
     ]
    },
    {
     "data": {
      "text/markdown": [
       "Deliverables ready. Files saved at:\n",
       "- \\mnt\\data\\MSTA6102_CAT_Solutions.ipynb\n",
       "- \\mnt\\data\\MSTA6102_CAT_OnePageResults.pdf\n",
       "- \\mnt\\data\\MSTA6102_CAT_VivaSlides.pptx"
      ],
      "text/plain": [
       "<IPython.core.display.Markdown object>"
      ]
     },
     "metadata": {},
     "output_type": "display_data"
    }
   ],
   "source": [
    "# Final checklist cell\n",
    "checklist_table = pd.DataFrame([\n",
    "    {\"Key\": \"RR (Q1)\", \"Value\": SUMMARY_RESULTS[\"Q1_rr\"]},\n",
    "    {\"Key\": \"OR (Q1)\", \"Value\": SUMMARY_RESULTS[\"Q1_or\"]},\n",
    "    {\"Key\": \"RD (Q1)\", \"Value\": SUMMARY_RESULTS[\"Q1_rd\"]},\n",
    "    {\"Key\": \"OR (Q2)\", \"Value\": SUMMARY_RESULTS[\"Q2_or\"]},\n",
    "    {\"Key\": \"Fisher p (Q2)\", \"Value\": SUMMARY_RESULTS[\"Q2_fisher_p\"]},\n",
    "    {\"Key\": \"AUC (Q3)\", \"Value\": SUMMARY_RESULTS[\"Q3_auc\"]},\n",
    "    {\"Key\": \"Rows synthesised (Q3)\", \"Value\": SUMMARY_RESULTS[\"Q3_rows\"]},\n",
    "])\n",
    "display(checklist_table.style.format({\"Value\": \"{:.6f}\"}))\n",
    "\n",
    "files_to_check = [\n",
    "    DELIVERABLE_DIR / NOTEBOOK_NAME,\n",
    "    DELIVERABLE_DIR / \"MSTA6102_CAT_OnePageResults.pdf\",\n",
    "    DELIVERABLE_DIR / \"MSTA6102_CAT_VivaSlides.pptx\",\n",
    "]\n",
    "\n",
    "existence = {path.name: path.exists() for path in files_to_check}\n",
    "print(json.dumps(existence, indent=2))\n",
    "\n",
    "try:\n",
    "    from IPython.display import Markdown\n",
    "    paths_text = \"\\n\".join([f\"- {path}\" for path in files_to_check])\n",
    "    display(Markdown(f\"Deliverables ready. Files saved at:\\n{paths_text}\"))\n",
    "except Exception:\n",
    "    print(\"Deliverables ready. Files saved at:\")\n",
    "    for path in files_to_check:\n",
    "        print(f\"- {path}\")"
   ]
  }
 ],
 "metadata": {
  "kernelspec": {
   "display_name": "ml_env",
   "language": "python",
   "name": "python3"
  },
  "language_info": {
   "codemirror_mode": {
    "name": "ipython",
    "version": 3
   },
   "file_extension": ".py",
   "mimetype": "text/x-python",
   "name": "python",
   "nbconvert_exporter": "python",
   "pygments_lexer": "ipython3",
   "version": "3.11.13"
  }
 },
 "nbformat": 4,
 "nbformat_minor": 5
}
