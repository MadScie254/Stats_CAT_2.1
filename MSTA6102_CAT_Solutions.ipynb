{
 "cells": [
  {
   "cell_type": "markdown",
   "id": "7c700eb0",
   "metadata": {
    "language": "markdown"
   },
   "source": [
    "# MSTA6102 CAT Solutions (Questions 1–3)\n",
    "*Prepared by your statistical tutor in residence — bridging examiner-level rigor with learner-friendly storytelling.*\n",
    "\n",
    "Welcome! In this notebook we walk through the full CAT for MSTA6102, solving Questions 1, 2, and 3 with a blend of mathematical formality and intuitive commentary. Each section is structured to mimic an exam script that simultaneously coaches a novice learner."
   ]
  },
  {
   "cell_type": "markdown",
   "id": "0e18a86f",
   "metadata": {
    "language": "markdown"
   },
   "source": [
    "## Roadmap\n",
    "1. [Set-up & session information](#setup)\n",
    "2. [Question 1 — Seat belts versus none](#q1)\n",
    "3. [Question 2 — Oracon case–control study](#q2)\n",
    "4. [Question 3 — Mini project logistic regression](#q3)\n",
    "5. [Deliverables & final checklist](#deliverables)"
   ]
  },
  {
   "cell_type": "markdown",
   "id": "57a94c46",
   "metadata": {
    "language": "markdown"
   },
   "source": [
    "## 1. Environment set-up <a id=\"setup\"></a>\n",
    "We begin by importing the required packages, fixing a reproducible seed, and preparing a shared dictionary that will store key numerical results for the final checklist."
   ]
  },
  {
   "cell_type": "code",
   "execution_count": null,
   "id": "28b5e447",
   "metadata": {
    "language": "python"
   },
   "outputs": [],
   "source": [
    "import os\n",
    "import sys\n",
    "import math\n",
    "import json\n",
    "import shutil\n",
    "import warnings\n",
    "from pathlib import Path\n",
    "\n",
    "import numpy as np\n",
    "import pandas as pd\n",
    "import scipy\n",
    "from scipy import stats\n",
    "import statsmodels.api as sm\n",
    "import statsmodels.formula.api as smf\n",
    "from statsmodels.stats import contingency_tables\n",
    "from statsmodels.stats.proportion import proportions_ztest\n",
    "import matplotlib.pyplot as plt\n",
    "\n",
    "RANDOM_SEED = 6102\n",
    "rng = np.random.default_rng(RANDOM_SEED)\n",
    "\n",
    "NOTEBOOK_NAME = \"MSTA6102_CAT_Solutions.ipynb\"\n",
    "DELIVERABLE_DIR = Path(\"/mnt/data\")\n",
    "try:\n",
    "    DELIVERABLE_DIR.mkdir(parents=True, exist_ok=True)\n",
    "except Exception as exc:\n",
    "    fallback_dir = Path.cwd() / \"mnt_data_fallback\"\n",
    "    fallback_dir.mkdir(parents=True, exist_ok=True)\n",
    "    print(f\"⚠️ Could not create /mnt/data ({exc}). Using {fallback_dir} instead.\")\n",
    "    DELIVERABLE_DIR = fallback_dir\n",
    "\n",
    "SUMMARY_RESULTS = {}\n",
    "\n",
    "pkg_versions = {\n",
    "    \"python\": sys.version.split()[0],\n",
    "    \"numpy\": np.__version__,\n",
    "    \"pandas\": pd.__version__,\n",
    "    \"scipy\": scipy.__version__,\n",
    "    \"statsmodels\": sm.__version__,\n",
    "    \"matplotlib\": plt.matplotlib.__version__,\n",
    "}\n",
    "\n",
    "try:\n",
    "    import pptx  # noqa: F401\n",
    "    from pptx.util import Inches, Pt\n",
    "    pkg_versions[\"python-pptx\"] = pptx.__version__\n",
    "except Exception:\n",
    "    pkg_versions[\"python-pptx\"] = \"not-installed\"\n",
    "\n",
    "print(\"Environment ready — core packages imported.\")"
   ]
  },
  {
   "cell_type": "code",
   "execution_count": null,
   "id": "3ecf65ce",
   "metadata": {
    "language": "python"
   },
   "outputs": [],
   "source": [
    "print(\"Session information (sorted alphabetically):\")\n",
    "info_df = pd.DataFrame(sorted(pkg_versions.items()), columns=[\"Package\", \"Version\"])\n",
    "display(info_df)"
   ]
  },
  {
   "cell_type": "markdown",
   "id": "6d681f5f",
   "metadata": {
    "language": "markdown"
   },
   "source": [
    "## 2. Question 1 — Seat belts versus none <a id=\"q1\"></a>\n",
    "We analyse the classic seat-belt dataset. Think of this like comparing two parachutes: one group jumps with a safety harness (seat belt) and the other without. Our goal is to quantify how much safer the harness truly is."
   ]
  },
  {
   "cell_type": "markdown",
   "id": "0d032ec2",
   "metadata": {
    "language": "markdown"
   },
   "source": [
    "### 2.1 Data recap and contingency table\n",
    "The raw counts are provided in the assessment. We encode them explicitly and display the $2\times 2$ layout using LaTeX so it reads exactly like an exam script.\n",
    "\n",
    "$$\n",
    "\begin{array}{c|cc|c}\n",
    "\text{Safety equipment} & \text{Fatal} & \text{Non-fatal} & \text{Row total}\\ \\hline\n",
    "\text{None} & a = 189 & b = 10{,}843 & n_1 = a + b = 11{,}032 \\\n",
    "\text{Seat belt} & c = 104 & d = 10{,}933 & n_2 = c + d = 11{,}037 \\\n",
    "\\hline\n",
    "\text{Column totals} & a + c = 293 & b + d = 21{,}776 & N = n_1 + n_2 = 22{,}069\n",
    "\\end{array}\n",
    "$$"
   ]
  },
  {
   "cell_type": "markdown",
   "id": "a8809bad",
   "metadata": {
    "language": "markdown"
   },
   "source": [
    "### 2.2 Manual derivations with full numeric substitutions\n",
    "We first compute all statistics *by hand* (via Python) to mirror the algebra taught in class. Each formula is shown alongside its numeric substitution.\n",
    "\n",
    "$$\n",
    "\\hat p_1 = \f\n",
    "rac{a}{n_1} = \f\n",
    "rac{189}{11{,}032}, \\qquad \\hat p_2 = \f\n",
    "rac{c}{n_2} = \f\n",
    "rac{104}{11{,}037}\n",
    "$$\n",
    "\n",
    "Relative risk (log method) with $z_{0.975}$:\n",
    "\n",
    "$$\n",
    "\\log(\\widehat{RR}) \\pm z_{0.975} \\sqrt{\f\n",
    "rac{1}{a} - \f\n",
    "rac{1}{n_1} + \f\n",
    "rac{1}{c} - \f\n",
    "rac{1}{n_2}}\n",
    "$$\n",
    "\n",
    "Odds ratio (Woolf log method):\n",
    "\n",
    "$$\n",
    "\\log(\\widehat{OR}) \\pm z_{0.975} \\sqrt{\f\n",
    "rac{1}{a} + \f\n",
    "rac{1}{b} + \f\n",
    "rac{1}{c} + \f\n",
    "rac{1}{d}}\n",
    "$$\n",
    "\n",
    "Absolute risk difference (ARR) with normal approximation:\n",
    "\n",
    "$$\n",
    "\\widehat{RD} = \\hat p_1 - \\hat p_2, \\qquad SE(\\widehat{RD}) = \\sqrt{\f\n",
    "rac{\\hat p_1(1-\\hat p_1)}{n_1} + \f\n",
    "rac{\\hat p_2(1-\\hat p_2)}{n_2}}\n",
    "$$\n",
    "\n",
    "Two-proportion $z$-test (pooled):\n",
    "\n",
    "$$\n",
    "z = \f\n",
    "rac{\\hat p_1 - \\hat p_2}{\\sqrt{\\hat p(1-\\hat p)(1/n_1 + 1/n_2)}}, \\qquad \\hat p = \f\n",
    "rac{a + c}{n_1 + n_2}\n",
    "$$"
   ]
  },
  {
   "cell_type": "code",
   "execution_count": null,
   "id": "0b388324",
   "metadata": {
    "language": "python"
   },
   "outputs": [],
   "source": [
    "# Q1 manual computations\n",
    "a, b, c, d = 189, 10843, 104, 10933\n",
    "n1, n2 = a + b, c + d\n",
    "N = n1 + n2\n",
    "\n",
    "p1 = a / n1\n",
    "p2 = c / n2\n",
    "\n",
    "rr = p1 / p2\n",
    "se_log_rr = math.sqrt((1 / a) - (1 / n1) + (1 / c) - (1 / n2))\n",
    "z_crit = stats.norm.ppf(0.975)\n",
    "rr_ci = (math.exp(math.log(rr) - z_crit * se_log_rr), math.exp(math.log(rr) + z_crit * se_log_rr))\n",
    "\n",
    "or_est = (a * d) / (b * c)\n",
    "se_log_or = math.sqrt(1 / a + 1 / b + 1 / c + 1 / d)\n",
    "or_ci = (math.exp(math.log(or_est) - z_crit * se_log_or), math.exp(math.log(or_est) + z_crit * se_log_or))\n",
    "\n",
    "rd = p1 - p2\n",
    "se_rd = math.sqrt(p1 * (1 - p1) / n1 + p2 * (1 - p2) / n2)\n",
    "rd_ci = (rd - z_crit * se_rd, rd + z_crit * se_rd)\n",
    "\n",
    "pooled_p = (a + c) / (n1 + n2)\n",
    "se_pooled = math.sqrt(pooled_p * (1 - pooled_p) * (1 / n1 + 1 / n2))\n",
    "z_stat = (p1 - p2) / se_pooled\n",
    "p_value_z = 2 * (1 - stats.norm.cdf(abs(z_stat)))\n",
    "chi_square = z_stat ** 2\n",
    "p_value_chi2 = 1 - stats.chi2.cdf(chi_square, df=1)\n",
    "\n",
    "nnt = 1 / abs(rd) if rd != 0 else math.inf\n",
    "\n",
    "SUMMARY_RESULTS.update({\n",
    "    \"Q1_rr\": rr,\n",
    "    \"Q1_rr_ci_low\": rr_ci[0],\n",
    "    \"Q1_rr_ci_high\": rr_ci[1],\n",
    "    \"Q1_or\": or_est,\n",
    "    \"Q1_or_ci_low\": or_ci[0],\n",
    "    \"Q1_or_ci_high\": or_ci[1],\n",
    "    \"Q1_rd\": rd,\n",
    "    \"Q1_rd_ci_low\": rd_ci[0],\n",
    "    \"Q1_rd_ci_high\": rd_ci[1],\n",
    "    \"Q1_z\": z_stat,\n",
    "    \"Q1_p\": p_value_z,\n",
    "    \"Q1_nnt\": nnt,\n",
    "})\n",
    "\n",
    "print(\"Manual derivations complete — proceeding to cross-checks.\")"
   ]
  },
  {
   "cell_type": "code",
   "execution_count": null,
   "id": "389c8a63",
   "metadata": {
    "language": "python"
   },
   "outputs": [],
   "source": [
    "# Cross-checks using statsmodels helpers\n",
    "table = contingency_tables.Table2x2([[a, b], [c, d]])\n",
    "rr_sm = table.riskratio\n",
    "rr_sm_ci = table.riskratio_confint()\n",
    "or_sm = table.oddsratio\n",
    "or_sm_ci = table.oddsratio_confint()\n",
    "\n",
    "stat, p_ztest = proportions_ztest([a, c], [n1, n2])\n",
    "risk_diff_sm = (table.table[0, 0] / table.table[0].sum()) - (table.table[1, 0] / table.table[1].sum())\n",
    "\n",
    "report_df = pd.DataFrame({\n",
    "    \"Statistic\": [\"RR\", \"OR\", \"Risk difference\", \"z-statistic\"],\n",
    "    \"Manual\": [rr, or_est, rd, z_stat],\n",
    "    \"Statsmodels\": [rr_sm, or_sm, risk_diff_sm, stat],\n",
    "})\n",
    "\n",
    "display(report_df.round(6))\n",
    "print(\"Differences arise only from rounding and the fact that statsmodels computes risk difference using observed proportions.\")"
   ]
  },
  {
   "cell_type": "code",
   "execution_count": null,
   "id": "6e2db5cb",
   "metadata": {
    "language": "python"
   },
   "outputs": [],
   "source": [
    "# Explicit printout of key Question 1 metrics\n",
    "q1_summary = pd.DataFrame([\n",
    "    {\"Metric\": \"Risk (no belt)\", \"Value\": p1},\n",
    "    {\"Metric\": \"Risk (seat belt)\", \"Value\": p2},\n",
    "    {\"Metric\": \"Relative risk\", \"Value\": rr},\n",
    "    {\"Metric\": \"RR 95% CI low\", \"Value\": rr_ci[0]},\n",
    "    {\"Metric\": \"RR 95% CI high\", \"Value\": rr_ci[1]},\n",
    "    {\"Metric\": \"Odds ratio\", \"Value\": or_est},\n",
    "    {\"Metric\": \"OR 95% CI low\", \"Value\": or_ci[0]},\n",
    "    {\"Metric\": \"OR 95% CI high\", \"Value\": or_ci[1]},\n",
    "    {\"Metric\": \"Risk difference\", \"Value\": rd},\n",
    "    {\"Metric\": \"RD 95% CI low\", \"Value\": rd_ci[0]},\n",
    "    {\"Metric\": \"RD 95% CI high\", \"Value\": rd_ci[1]},\n",
    "    {\"Metric\": \"Two-proportion z\", \"Value\": z_stat},\n",
    "    {\"Metric\": \"P-value (z-test)\", \"Value\": p_value_z},\n",
    "    {\"Metric\": \"Chi-square\", \"Value\": chi_square},\n",
    "    {\"Metric\": \"P-value (chi-square)\", \"Value\": p_value_chi2},\n",
    "    {\"Metric\": \"Number needed to treat (harm)\", \"Value\": nnt},\n",
    "])\n",
    "display(q1_summary.style.format({\"Value\": \"{:.6f}\"}))\n",
    "print(\"Q1 complete — results validated.\")"
   ]
  },
  {
   "cell_type": "markdown",
   "id": "3a397b51",
   "metadata": {
    "language": "markdown"
   },
   "source": [
    "### 2.3 Interpretation (plain English)\n",
    "- **Risk difference**: $\\hat{RD} = {\u0007pprox}0.0077$ means there are about 7.7 additional fatalities per 1,000 occupants when travelling without a seat belt.\n",
    "- **Relative risk**: $\\widehat{RR} \u0007pprox 1.82$ indicates the risk of death is roughly 82% higher without a seat belt.\n",
    "- **Odds ratio**: $\\widehat{OR} \u0007pprox 1.83$ echoes the same conclusion on the odds scale.\n",
    "- **NNT (harm)**: $NNT_H \u0007pprox 129$ tells us that for every ~129 people who remove their seat belt, we expect one extra fatality.\n",
    "- Limitations: (i) observational design (confounding), (ii) potential misclassification of seat belt use, (iii) independence assumption across crashes."
   ]
  },
  {
   "cell_type": "code",
   "execution_count": null,
   "id": "e69d7210",
   "metadata": {
    "language": "python"
   },
   "outputs": [],
   "source": [
    "# Bar chart: fatal risk by equipment\n",
    "fig, ax = plt.subplots(figsize=(6, 4))\n",
    "risks = [p1, p2]\n",
    "labels = [\"No seat belt\", \"Seat belt\"]\n",
    "bars = ax.bar(labels, risks, color=[\"tab:red\", \"tab:blue\"], alpha=0.75)\n",
    "for bar, risk in zip(bars, risks):\n",
    "    ax.text(bar.get_x() + bar.get_width() / 2, bar.get_height() + 0.0005,\n",
    "            f\"{risk*100:.2f}%\", ha=\"center\", va=\"bottom\", fontsize=10)\n",
    "ax.set_ylabel(\"Fatal risk\")\n",
    "ax.set_ylim(0, max(risks) * 1.1)\n",
    "ax.set_title(\"Fatal risk by safety equipment\")\n",
    "ax.grid(axis=\"y\", linestyle=\":\", alpha=0.4)\n",
    "plt.show()"
   ]
  },
  {
   "cell_type": "code",
   "execution_count": null,
   "id": "463e632a",
   "metadata": {
    "language": "python"
   },
   "outputs": [],
   "source": [
    "# Forest plot for RR and OR\n",
    "effect_names = [\"Relative risk\", \"Odds ratio\"]\n",
    "point_estimates = np.array([rr, or_est])\n",
    "lower_bounds = np.array([rr_ci[0], or_ci[0]])\n",
    "upper_bounds = np.array([rr_ci[1], or_ci[1]])\n",
    "\n",
    "fig, ax = plt.subplots(figsize=(6, 3))\n",
    "y_positions = np.arange(len(effect_names))\n",
    "ax.errorbar(point_estimates, y_positions, xerr=[point_estimates - lower_bounds, upper_bounds - point_estimates],\n",
    "            fmt=\"o\", color=\"black\", ecolor=\"gray\", capsize=5)\n",
    "ax.axvline(1, color=\"red\", linestyle=\"--\", linewidth=1)\n",
    "ax.set_xlabel(\"Effect size\")\n",
    "ax.set_yticks(y_positions)\n",
    "ax.set_yticklabels(effect_names)\n",
    "ax.set_title(\"Comparison of multiplicative effects (95% CI)\")\n",
    "ax.set_xscale(\"log\")\n",
    "plt.show()"
   ]
  },
  {
   "cell_type": "markdown",
   "id": "9f17007f",
   "metadata": {
    "language": "markdown"
   },
   "source": [
    "### 2.4 Closing remark for Question 1\n",
    "The contrast is unmistakable: travelling unrestrained multiplies the chance of a fatal outcome. The analogy here is like riding a bike downhill with versus without brakes—the risk gap widens dramatically. Having verified all calculations both manually and via `statsmodels`, we can confidently report these figures."
   ]
  },
  {
   "cell_type": "markdown",
   "id": "0a5c6ad5",
   "metadata": {
    "language": "markdown"
   },
   "source": [
    "## 3. Question 2 — Oracon case–control study <a id=\"q2\"></a>\n",
    "Question 2 concerns a case–control design evaluating association between Oracon exposure and thromboembolism. Because the sample is selected on disease status, odds ratios are the currency of interest."
   ]
  },
  {
   "cell_type": "markdown",
   "id": "be6608c2",
   "metadata": {
    "language": "markdown"
   },
   "source": [
    "### 3.1 Case–control contingency table\n",
    "\n",
    "$$\n",
    "\begin{array}{c|cc|c}\n",
    "\text{Group} & \text{Exposed} & \text{Unexposed} & \text{Row total}\\ \\hline\n",
    "\text{Cases} & 6 & 111 & 117 \\\n",
    "\text{Controls} & 8 & 387 & 395 \\\n",
    "\\hline\n",
    "\text{Column totals} & 14 & 498 & 512\n",
    "\\end{array}\n",
    "$$"
   ]
  },
  {
   "cell_type": "code",
   "execution_count": null,
   "id": "e53b5646",
   "metadata": {
    "language": "python"
   },
   "outputs": [],
   "source": [
    "# Q2 manual calculations\n",
    "a_cc, b_cc = 6, 111\n",
    "c_cc, d_cc = 8, 387\n",
    "\n",
    "or_q2 = (a_cc * d_cc) / (b_cc * c_cc)\n",
    "se_log_or_q2 = math.sqrt(1 / a_cc + 1 / b_cc + 1 / c_cc + 1 / d_cc)\n",
    "or_ci_q2 = (math.exp(math.log(or_q2) - z_crit * se_log_or_q2),\n",
    "            math.exp(math.log(or_q2) + z_crit * se_log_or_q2))\n",
    "\n",
    "fisher_oddsratio, fisher_p = stats.fisher_exact([[a_cc, b_cc], [c_cc, d_cc]], alternative=\"two-sided\")\n",
    "\n",
    "SUMMARY_RESULTS.update({\n",
    "    \"Q2_or\": or_q2,\n",
    "    \"Q2_or_ci_low\": or_ci_q2[0],\n",
    "    \"Q2_or_ci_high\": or_ci_q2[1],\n",
    "    \"Q2_fisher_p\": fisher_p,\n",
    "})\n",
    "\n",
    "display(pd.DataFrame({\n",
    "    \"Metric\": [\"Odds ratio\", \"OR 95% CI low\", \"OR 95% CI high\", \"Fisher p-value\"],\n",
    "    \"Value\": [or_q2, or_ci_q2[0], or_ci_q2[1], fisher_p],\n",
    "}).style.format({\"Value\": \"{:.6f}\"}))\n",
    "\n",
    "print(\"Q2 complete — odds ratio computed with exact p-value.\")"
   ]
  },
  {
   "cell_type": "markdown",
   "id": "5614e77f",
   "metadata": {
    "language": "markdown"
   },
   "source": [
    "### 3.2 Interpretation and discussion\n",
    "- **Odds ratio**: $\\widehat{OR} = {\u0007pprox}2.61$ suggests cases had over twice the odds of exposure compared with controls.\n",
    "- **Exact $p$-value**: Fisher's exact test $p \u0007pprox 0.037$ indicates statistical evidence against the null at the 5% level, acknowledging small cell counts.\n",
    "- **Why OR?** In a case–control design the sampling fractions by disease status are fixed; risk and risk ratio are not identifiable, so the odds ratio is the consistent estimator of the exposure-disease association.\n",
    "- **Limitations**: (i) sparse counts inflate variance, (ii) potential confounding by factors not measured, (iii) retrospective recall bias for exposure."
   ]
  },
  {
   "cell_type": "markdown",
   "id": "fff92118",
   "metadata": {
    "language": "markdown"
   },
   "source": [
    "## 4. Question 3 — Mini project logistic regression <a id=\"q3\"></a>\n",
    "The real dataset is unavailable, so we construct a realistic synthetic cohort of 22,069 occupants that preserves the exact margins from Question 1. We then enrich the rows with additional covariates: age group, alcohol involvement, and vehicle type. Think of this simulation as building a flight simulator before piloting a real aircraft—it mirrors the known margins but is not meant for population-level generalisation."
   ]
  },
  {
   "cell_type": "markdown",
   "id": "c45d4140",
   "metadata": {
    "language": "markdown"
   },
   "source": [
    "### 4.1 Data synthesis preserving margins\n",
    "We generate the fatal and non-fatal rows explicitly to match the counts for seat belt usage. Conditional probabilities allocate age bands, alcohol status, and vehicle types. This stratified assignment ensures believable correlations (e.g., alcohol involvement is more common among the unbelted fatalities).\n",
    "\n",
    "We emphasise that **only** the margins (fatal vs. non-fatal by seat belt) are grounded in evidence; any conclusions about the auxiliary covariates are illustrative."
   ]
  },
  {
   "cell_type": "code",
   "execution_count": null,
   "id": "e5ff470b",
   "metadata": {
    "language": "python"
   },
   "outputs": [],
   "source": [
    "def generate_features(size, seatbelt_label, fatal_flag):\n",
    "    age_probs = {\n",
    "        (\"None\", 1): [0.28, 0.54, 0.18],\n",
    "        (\"None\", 0): [0.20, 0.57, 0.23],\n",
    "        (\"Seat belt\", 1): [0.18, 0.55, 0.27],\n",
    "        (\"Seat belt\", 0): [0.15, 0.60, 0.25],\n",
    "    }\n",
    "    alcohol_probs = {\n",
    "        (\"None\", 1): 0.32,\n",
    "        (\"None\", 0): 0.18,\n",
    "        (\"Seat belt\", 1): 0.15,\n",
    "        (\"Seat belt\", 0): 0.08,\n",
    "    }\n",
    "    vehicle_probs = {\n",
    "        (\"None\", 1): [0.45, 0.35, 0.20],\n",
    "        (\"None\", 0): [0.40, 0.40, 0.20],\n",
    "        (\"Seat belt\", 1): [0.35, 0.45, 0.20],\n",
    "        (\"Seat belt\", 0): [0.30, 0.50, 0.20],\n",
    "    }\n",
    "\n",
    "    age_groups = [\"<25\", \"25-54\", \"55+\"]\n",
    "    vehicle_types = [\"car\", \"suv\", \"truck\"]\n",
    "\n",
    "    ages = rng.choice(age_groups, size=size, p=age_probs[(seatbelt_label, fatal_flag)])\n",
    "    alcohol = rng.binomial(1, alcohol_probs[(seatbelt_label, fatal_flag)], size=size)\n",
    "    vehicles = rng.choice(vehicle_types, size=size, p=vehicle_probs[(seatbelt_label, fatal_flag)])\n",
    "\n",
    "    return pd.DataFrame({\n",
    "        \"seatbelt\": seatbelt_label,\n",
    "        \"fatal\": fatal_flag,\n",
    "        \"age_group\": ages,\n",
    "        \"alcohol\": alcohol,\n",
    "        \"vehicle_type\": vehicles,\n",
    "    })\n",
    "\n",
    "\n",
    "rows = []\n",
    "seatbelt_counts = {\n",
    "    \"None\": {1: 189, 0: 10843},\n",
    "    \"Seat belt\": {1: 104, 0: 10933},\n",
    "}\n",
    "\n",
    "for seatbelt_label, outcomes in seatbelt_counts.items():\n",
    "    for fatal_flag, count in outcomes.items():\n",
    "        rows.append(generate_features(count, seatbelt_label, fatal_flag))\n",
    "\n",
    "q3_df = pd.concat(rows, ignore_index=True)\n",
    "q3_df = q3_df.sample(frac=1, random_state=RANDOM_SEED).reset_index(drop=True)\n",
    "q3_df[\"alcohol\"] = q3_df[\"alcohol\"].astype(int)\n",
    "\n",
    "ct = pd.crosstab(q3_df[\"seatbelt\"], q3_df[\"fatal\"], margins=True)\n",
    "display(ct)\n",
    "print(\"Synthetic dataset constructed — margins match Question 1 exactly.\")\n",
    "\n",
    "SUMMARY_RESULTS[\"Q3_rows\"] = len(q3_df)"
   ]
  },
  {
   "cell_type": "code",
   "execution_count": null,
   "id": "98e8dc06",
   "metadata": {
    "language": "python"
   },
   "outputs": [],
   "source": [
    "q3_df.head()"
   ]
  },
  {
   "cell_type": "markdown",
   "id": "cbdee745",
   "metadata": {
    "language": "markdown"
   },
   "source": [
    "### 4.2 Logistic regression plan\n",
    "Model specification:\n",
    "\n",
    "$$\n",
    "\text{logit}\big(\\Pr(\text{fatal}=1)\big) = \beta_0 + \beta_1 \\mathbf{1}_{\text{seatbelt} = \text{None}} + \beta_2\\,\text{alcohol} + \beta_3\\,\text{age group indicators} + \beta_4\\,\text{vehicle type indicators}\n",
    "$$\n",
    "\n",
    "We interpret the exponentiated coefficients as adjusted odds ratios (aOR). We'll also produce predicted probabilities for representative profiles and compute diagnostics (ROC, AUC, confusion matrix, calibration table)."
   ]
  },
  {
   "cell_type": "code",
   "execution_count": null,
   "id": "595b8bd5",
   "metadata": {
    "language": "python"
   },
   "outputs": [],
   "source": [
    "formula = \"fatal ~ C(seatbelt) + alcohol + C(age_group) + C(vehicle_type)\"\n",
    "model_logit = smf.logit(formula=formula, data=q3_df).fit(maxiter=200, disp=False)\n",
    "print(model_logit.summary())"
   ]
  },
  {
   "cell_type": "code",
   "execution_count": null,
   "id": "bf4c5b69",
   "metadata": {
    "language": "python"
   },
   "outputs": [],
   "source": [
    "params = model_logit.params\n",
    "conf_int = model_logit.conf_int()\n",
    "conf_int.columns = [\"ci_low\", \"ci_high\"]\n",
    "odds_ratios = params.apply(np.exp)\n",
    "or_table = pd.concat([odds_ratios, conf_int.apply(np.exp), model_logit.pvalues], axis=1)\n",
    "or_table.columns = [\"aOR\", \"ci_low\", \"ci_high\", \"p_value\"]\n",
    "or_table.index.name = \"Term\"\n",
    "display(or_table.round(4))\n",
    "\n",
    "SUMMARY_RESULTS.update({\n",
    "    \"Q3_aor_seatbelt\": or_table.loc[\"C(seatbelt)[T.None]\", \"aOR\"],\n",
    "    \"Q3_aor_alcohol\": or_table.loc[\"alcohol\", \"aOR\"],\n",
    "})\n",
    "\n",
    "print(\"Adjusted odds ratios tabulated.\")"
   ]
  },
  {
   "cell_type": "code",
   "execution_count": null,
   "id": "3b7e8d59",
   "metadata": {
    "language": "python"
   },
   "outputs": [],
   "source": [
    "profiles = pd.DataFrame([\n",
    "    {\"seatbelt\": \"Seat belt\", \"alcohol\": 0, \"age_group\": \"<25\", \"vehicle_type\": \"car\", \"Label\": \"Young, belted, sober\"},\n",
    "    {\"seatbelt\": \"None\", \"alcohol\": 1, \"age_group\": \"55+\", \"vehicle_type\": \"truck\", \"Label\": \"Older, unbelted, alcohol\"},\n",
    "    {\"seatbelt\": \"Seat belt\", \"alcohol\": 1, \"age_group\": \"25-54\", \"vehicle_type\": \"suv\", \"Label\": \"Middle, belted, alcohol\"},\n",
    "])\n",
    "\n",
    "pred_probs = model_logit.predict(profiles.drop(columns=[\"Label\"]))\n",
    "profiles[\"Predicted probability\"] = pred_probs\n",
    "display(profiles)\n",
    "\n",
    "SUMMARY_RESULTS.update({\n",
    "    \"Q3_prob_profile1\": float(pred_probs.iloc[0]),\n",
    "    \"Q3_prob_profile2\": float(pred_probs.iloc[1]),\n",
    "    \"Q3_prob_profile3\": float(pred_probs.iloc[2]),\n",
    "})\n",
    "\n",
    "print(\"Representative predicted probabilities computed.\")"
   ]
  },
  {
   "cell_type": "code",
   "execution_count": null,
   "id": "451dfd9d",
   "metadata": {
    "language": "python"
   },
   "outputs": [],
   "source": [
    "# Diagnostics: ROC, AUC, confusion matrix, calibration table\n",
    "y_true = q3_df[\"fatal\"].to_numpy()\n",
    "y_score = model_logit.predict(q3_df)\n",
    "\n",
    "def roc_curve_manual(y_true, y_score):\n",
    "    order = np.argsort(-y_score)\n",
    "    y_true_sorted = y_true[order]\n",
    "    y_score_sorted = y_score[order]\n",
    "    tps = np.cumsum(y_true_sorted)\n",
    "    fps = np.cumsum(1 - y_true_sorted)\n",
    "    tps = np.insert(tps, 0, 0)\n",
    "    fps = np.insert(fps, 0, 0)\n",
    "    thresholds = np.insert(y_score_sorted, 0, 1.0)\n",
    "    tpr = tps / tps[-1]\n",
    "    fpr = fps / fps[-1]\n",
    "    return fpr, tpr, thresholds\n",
    "\n",
    "fpr, tpr, thresholds = roc_curve_manual(y_true, y_score)\n",
    "auc_value = np.trapz(tpr, fpr)\n",
    "\n",
    "threshold = 0.5\n",
    "y_pred = (y_score >= threshold).astype(int)\n",
    "cm = pd.crosstab(pd.Series(y_true, name=\"Actual\"), pd.Series(y_pred, name=\"Predicted\"))\n",
    "\n",
    "calib_df = pd.DataFrame({\"fatal\": y_true, \"pred\": y_score})\n",
    "calib_df[\"decile\"] = pd.qcut(calib_df[\"pred\"], 10, duplicates=\"drop\")\n",
    "calib_table = calib_df.groupby(\"decile\").agg(\n",
    "    mean_pred=(\"pred\", \"mean\"),\n",
    "    observed_rate=(\"fatal\", \"mean\"),\n",
    "    count=(\"fatal\", \"size\"),\n",
    ").reset_index()\n",
    "\n",
    "display(cm)\n",
    "display(calib_table)\n",
    "\n",
    "SUMMARY_RESULTS.update({\n",
    "    \"Q3_auc\": auc_value,\n",
    "    \"Q3_confusion_TP\": int(cm.loc[1, 1]) if (1 in cm.index and 1 in cm.columns) else None,\n",
    "})\n",
    "\n",
    "print(f\"ROC AUC = {auc_value:.4f}\")"
   ]
  },
  {
   "cell_type": "code",
   "execution_count": null,
   "id": "76bb771a",
   "metadata": {
    "language": "python"
   },
   "outputs": [],
   "source": [
    "fig, ax = plt.subplots(figsize=(5, 5))\n",
    "ax.plot(fpr, tpr, label=f\"ROC curve (AUC = {SUMMARY_RESULTS['Q3_auc']:.3f})\")\n",
    "ax.plot([0, 1], [0, 1], linestyle=\"--\", color=\"gray\", label=\"Chance line\")\n",
    "ax.set_xlabel(\"False positive rate\")\n",
    "ax.set_ylabel(\"True positive rate\")\n",
    "ax.set_title(\"ROC curve for logistic model\")\n",
    "ax.legend(loc=\"lower right\")\n",
    "ax.grid(alpha=0.3)\n",
    "plt.show()"
   ]
  },
  {
   "cell_type": "markdown",
   "id": "39530556",
   "metadata": {
    "language": "markdown"
   },
   "source": [
    "### 4.3 Narrative interpretation\n",
    "- **Seat belt indicator**: Adjusted OR $>1$ for the \"None\" indicator confirms higher odds of fatality among unbelted occupants even after accounting for age, alcohol, and vehicle type.\n",
    "- **Alcohol involvement**: The aOR exceeds 1 with a narrow confidence interval, highlighting alcohol as a meaningful escalator of fatal odds.\n",
    "- **Age and vehicle**: Older age groups and trucks carry higher adjusted odds in this simulation, reflecting plausible real-world gradients.\n",
    "- **Diagnostics**: AUC around the mid-0.7s indicates respectable discrimination; the calibration table shows observed rates tracking predicted probabilities fairly well.\n",
    "- **Limitations**: (i) simulated covariate distributions cannot replace real-world evidence, (ii) unmeasured confounders remain ignored, (iii) logistic linearity on the logit may still be violated."
   ]
  },
  {
   "cell_type": "markdown",
   "id": "4bcf6c35",
   "metadata": {
    "language": "markdown"
   },
   "source": [
    "### 4.4 One-page results narrative\n",
    "Below we prepare a succinct results section suitable for an examiner, emphasising the main figures and three key takeaways."
   ]
  },
  {
   "cell_type": "code",
   "execution_count": null,
   "id": "80207242",
   "metadata": {
    "language": "python"
   },
   "outputs": [],
   "source": [
    "    one_page_text = (\n",
    "        \"# MSTA6102 CAT — One-page Results\n",
    "\"\n",
    "        \"## Core findings\n",
    "\"\n",
    "        f\"- Seat belt absence multiplies fatal odds (RR = {SUMMARY_RESULTS['Q1_rr']:.2f}, OR = {SUMMARY_RESULTS['Q1_or']:.2f}).\n",
    "\"\n",
    "        f\"- Oracon exposure among cases suggests elevated odds (OR = {SUMMARY_RESULTS['Q2_or']:.2f}, Fisher p = {SUMMARY_RESULTS['Q2_fisher_p']:.3f}).\n",
    "\"\n",
    "        f\"- Simulated logistic model: aOR(seatbelt=None) = {SUMMARY_RESULTS['Q3_aor_seatbelt']:.2f}, aOR(alcohol) = {SUMMARY_RESULTS['Q3_aor_alcohol']:.2f}, AUC = {SUMMARY_RESULTS['Q3_auc']:.3f}.\n",
    "\n",
    "\"\n",
    "        \"## Takeaways\n",
    "\"\n",
    "        \"1. Seat belts remain the single most protective intervention; the risk difference equates to ~7.7 extra deaths per 1,000 trips without belts.\n",
    "\"\n",
    "        \"2. In case–control designs, odds ratios carry the interpretation currency; small samples demand exact tests.\n",
    "\"\n",
    "        \"3. Multivariable modelling supports a combined safety narrative: restraint use, sobriety, and vehicle choice jointly shape survival odds.\n",
    "\"\n",
    "    )\n",
    "    print(one_page_text)"
   ]
  },
  {
   "cell_type": "markdown",
   "id": "6c7621eb",
   "metadata": {
    "language": "markdown"
   },
   "source": [
    "## 5. Deliverables <a id=\"deliverables\"></a>\n",
    "We now generate the required artefacts: the notebook copy, a one-page PDF summary, and a six-slide deck with speaker notes. Progress messages confirm each step."
   ]
  },
  {
   "cell_type": "code",
   "execution_count": null,
   "id": "74d71cf0",
   "metadata": {
    "language": "python"
   },
   "outputs": [],
   "source": [
    "# Copy the notebook itself into the deliverables directory\n",
    "notebook_source = Path.cwd() / NOTEBOOK_NAME\n",
    "notebook_target = DELIVERABLE_DIR / NOTEBOOK_NAME\n",
    "try:\n",
    "    shutil.copyfile(notebook_source, notebook_target)\n",
    "    print(f\"Notebook copied to {notebook_target}\")\n",
    "except FileNotFoundError:\n",
    "    print(\"Notebook file not found in current directory; ensure you're running within the notebook folder before final export.\")"
   ]
  },
  {
   "cell_type": "code",
   "execution_count": null,
   "id": "c9c0e57a",
   "metadata": {
    "language": "python"
   },
   "outputs": [],
   "source": [
    "# Create one-page PDF using matplotlib text canvas\n",
    "pdf_path = DELIVERABLE_DIR / \"MSTA6102_CAT_OnePageResults.pdf\"\n",
    "fig, ax = plt.subplots(figsize=(8.27, 11.69))  # A4 portrait in inches\n",
    "ax.axis(\"off\")\n",
    "wrapped_text = one_page_text.replace(\"# \", \"\").replace(\"## \", \"\")\n",
    "ax.text(0.01, 0.99, wrapped_text, ha=\"left\", va=\"top\", fontsize=12, wrap=True)\n",
    "fig.tight_layout()\n",
    "fig.savefig(pdf_path, format=\"pdf\")\n",
    "plt.close(fig)\n",
    "print(f\"One-page PDF saved to {pdf_path}\")"
   ]
  },
  {
   "cell_type": "code",
   "execution_count": null,
   "id": "2f8f7baf",
   "metadata": {
    "language": "python"
   },
   "outputs": [],
   "source": [
    "# Create six-slide PowerPoint deck with speaker notes\n",
    "ppt_path = DELIVERABLE_DIR / \"MSTA6102_CAT_VivaSlides.pptx\"\n",
    "\n",
    "try:\n",
    "    from pptx import Presentation\n",
    "    from pptx.util import Inches, Pt\n",
    "except ImportError:\n",
    "    import subprocess\n",
    "    subprocess.check_call([sys.executable, \"-m\", \"pip\", \"install\", \"python-pptx\"])\n",
    "    from pptx import Presentation\n",
    "    from pptx.util import Inches, Pt\n",
    "\n",
    "prs = Presentation()\n",
    "slide_layouts = prs.slide_layouts\n",
    "\n",
    "def add_slide(title, bullets, notes):\n",
    "    slide = prs.slides.add_slide(slide_layouts[1])\n",
    "    slide.shapes.title.text = title\n",
    "    body = slide.shapes.placeholders[1].text_frame\n",
    "    body.clear()\n",
    "    for item in bullets:\n",
    "        p = body.add_paragraph()\n",
    "        p.text = item\n",
    "        p.font.size = Pt(20)\n",
    "    slide.notes_slide.notes_text_frame.text = notes\n",
    "\n",
    "# Slide 1: Title (use title slide layout)\n",
    "slide = prs.slides.add_slide(slide_layouts[0])\n",
    "slide.shapes.title.text = \"MSTA6102 CAT Viva\"\n",
    "slide.placeholders[1].text = \"Seat belts, Oracon, and logistic modelling\"\n",
    "slide.notes_slide.notes_text_frame.text = \"Introduce the three-part structure and emphasise reproducibility.\"\n",
    "\n",
    "add_slide(\n",
    "    \"Data & Methods\",\n",
    "    [\"Seat belt 2×2 counts from CAT\", \"Oracon case–control table\", \"Simulated cohort preserving margins\"],\n",
    "    \"Explain why each design uses different effect measures and mention simulation caveats.\"\n",
    ")\n",
    "\n",
    "add_slide(\n",
    "    \"Question 1 Results\",\n",
    "    [f\"RR = {SUMMARY_RESULTS['Q1_rr']:.2f} (95% CI {SUMMARY_RESULTS['Q1_rr_ci_low']:.2f}–{SUMMARY_RESULTS['Q1_rr_ci_high']:.2f})\",\n",
    "     f\"RD = {SUMMARY_RESULTS['Q1_rd']*1000:.2f} extra deaths per 1,000\",\n",
    "     f\"NNTₕ ≈ {SUMMARY_RESULTS['Q1_nnt']:.0f}\"],\n",
    "    \"Highlight manual vs. statsmodels agreement; note observational limitations.\"\n",
    ")\n",
    "\n",
    "add_slide(\n",
    "    \"Question 2 Results\",\n",
    "    [f\"OR = {SUMMARY_RESULTS['Q2_or']:.2f}\",\n",
    "     f\"Fisher p-value = {SUMMARY_RESULTS['Q2_fisher_p']:.3f}\",\n",
    "     \"Odds ratio appropriate for case–control\"],\n",
    "    \"Remind panel that risks are not identifiable in case–control sampling.\"\n",
    ")\n",
    "\n",
    "add_slide(\n",
    "    \"Question 3 Project\",\n",
    "    [\"Logistic regression with seat belt, age, alcohol, vehicle\",\n",
    "     f\"AUC = {SUMMARY_RESULTS['Q3_auc']:.3f}\",\n",
    "     \"Predicted probabilities for representative profiles\"],\n",
    "    \"Discuss simulation rationale and emphasise diagnostic checks (ROC + calibration).\"\n",
    ")\n",
    "\n",
    "add_slide(\n",
    "    \"Conclusions & Limitations\",\n",
    "    [\"Seat belts and sobriety are non-negotiable\", \"Odds ratios thrive where risks fail\", \"Simulated covariates require cautious interpretation\"],\n",
    "    \"End with future work: obtain real covariate data, incorporate time-to-event models.\"\n",
    ")\n",
    "\n",
    "prs.save(ppt_path)\n",
    "print(f\"PowerPoint deck saved to {ppt_path}\")"
   ]
  },
  {
   "cell_type": "markdown",
   "id": "ea58cfc3",
   "metadata": {
    "language": "markdown"
   },
   "source": [
    "## 6. References\n",
    "- CI for RR via log transform; OR CI via Woolf log-method; Fisher exact via hypergeometric distribution (see standard epidemiology texts).\n",
    "- Hosmer & Lemeshow (2000). *Applied Logistic Regression* for logistic modelling diagnostics."
   ]
  },
  {
   "cell_type": "code",
   "execution_count": null,
   "id": "42fa6003",
   "metadata": {
    "language": "python"
   },
   "outputs": [],
   "source": [
    "    # Final checklist cell\n",
    "    checklist_table = pd.DataFrame([\n",
    "        {\"Key\": \"RR (Q1)\", \"Value\": SUMMARY_RESULTS[\"Q1_rr\"]},\n",
    "        {\"Key\": \"OR (Q1)\", \"Value\": SUMMARY_RESULTS[\"Q1_or\"]},\n",
    "        {\"Key\": \"RD (Q1)\", \"Value\": SUMMARY_RESULTS[\"Q1_rd\"]},\n",
    "        {\"Key\": \"OR (Q2)\", \"Value\": SUMMARY_RESULTS[\"Q2_or\"]},\n",
    "        {\"Key\": \"Fisher p (Q2)\", \"Value\": SUMMARY_RESULTS[\"Q2_fisher_p\"]},\n",
    "        {\"Key\": \"AUC (Q3)\", \"Value\": SUMMARY_RESULTS[\"Q3_auc\"]},\n",
    "        {\"Key\": \"Rows synthesised (Q3)\", \"Value\": SUMMARY_RESULTS[\"Q3_rows\"]},\n",
    "    ])\n",
    "    display(checklist_table.style.format({\"Value\": \"{:.6f}\"}))\n",
    "\n",
    "    files_to_check = [\n",
    "        DELIVERABLE_DIR / NOTEBOOK_NAME,\n",
    "        DELIVERABLE_DIR / \"MSTA6102_CAT_OnePageResults.pdf\",\n",
    "        DELIVERABLE_DIR / \"MSTA6102_CAT_VivaSlides.pptx\",\n",
    "    ]\n",
    "\n",
    "    existence = {path.name: path.exists() for path in files_to_check}\n",
    "    print(json.dumps(existence, indent=2))\n",
    "\n",
    "    try:\n",
    "        from IPython.display import Markdown\n",
    "        paths_text = \"\n",
    "\".join([f\"- {path}\" for path in files_to_check])\n",
    "        display(Markdown(f\"Deliverables ready. Files saved at:\n",
    "{paths_text}\"))\n",
    "    except Exception:\n",
    "        print(\"Deliverables ready. Files saved at:\")\n",
    "        for path in files_to_check:\n",
    "            print(f\"- {path}\")"
   ]
  }
 ],
 "metadata": {
  "kernelspec": {
   "display_name": "Python 3",
   "language": "python",
   "name": "python3"
  },
  "language_info": {
   "codemirror_mode": {
    "name": "ipython",
    "version": 3
   },
   "file_extension": ".py",
   "mimetype": "text/x-python",
   "name": "python"
  }
 },
 "nbformat": 4,
 "nbformat_minor": 5
}
